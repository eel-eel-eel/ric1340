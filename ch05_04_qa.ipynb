{
  "nbformat": 4,
  "nbformat_minor": 0,
  "metadata": {
    "accelerator": "GPU",
    "colab": {
      "provenance": [],
      "include_colab_link": true
    },
    "kernelspec": {
      "display_name": "Python 3",
      "name": "python3"
    },
    "language_info": {
      "name": "python"
    },
    "widgets": {
      "application/vnd.jupyter.widget-state+json": {
        "0e7b9fa051944dc4b9082f0c533bfffe": {
          "model_module": "@jupyter-widgets/controls",
          "model_name": "HBoxModel",
          "model_module_version": "1.5.0",
          "state": {
            "_dom_classes": [],
            "_model_module": "@jupyter-widgets/controls",
            "_model_module_version": "1.5.0",
            "_model_name": "HBoxModel",
            "_view_count": null,
            "_view_module": "@jupyter-widgets/controls",
            "_view_module_version": "1.5.0",
            "_view_name": "HBoxView",
            "box_style": "",
            "children": [
              "IPY_MODEL_b99dfe85453d4831bfe12293b9b170f6",
              "IPY_MODEL_f7f524f564ad408bb20b268fed87b20c",
              "IPY_MODEL_36c29aca057c4093a841156a01f501e2"
            ],
            "layout": "IPY_MODEL_cbb7b8fc2aa4412e8d0e5eb12cb60915"
          }
        },
        "b99dfe85453d4831bfe12293b9b170f6": {
          "model_module": "@jupyter-widgets/controls",
          "model_name": "HTMLModel",
          "model_module_version": "1.5.0",
          "state": {
            "_dom_classes": [],
            "_model_module": "@jupyter-widgets/controls",
            "_model_module_version": "1.5.0",
            "_model_name": "HTMLModel",
            "_view_count": null,
            "_view_module": "@jupyter-widgets/controls",
            "_view_module_version": "1.5.0",
            "_view_name": "HTMLView",
            "description": "",
            "description_tooltip": null,
            "layout": "IPY_MODEL_0845dc9f1bd7485f874794a9267987e8",
            "placeholder": "​",
            "style": "IPY_MODEL_fbb96924078f412e8c0a09fef43038b1",
            "value": "Downloading vocab.txt: 100%"
          }
        },
        "f7f524f564ad408bb20b268fed87b20c": {
          "model_module": "@jupyter-widgets/controls",
          "model_name": "FloatProgressModel",
          "model_module_version": "1.5.0",
          "state": {
            "_dom_classes": [],
            "_model_module": "@jupyter-widgets/controls",
            "_model_module_version": "1.5.0",
            "_model_name": "FloatProgressModel",
            "_view_count": null,
            "_view_module": "@jupyter-widgets/controls",
            "_view_module_version": "1.5.0",
            "_view_name": "ProgressView",
            "bar_style": "success",
            "description": "",
            "description_tooltip": null,
            "layout": "IPY_MODEL_546753163ba14877bdf8510c02844b9c",
            "max": 257706,
            "min": 0,
            "orientation": "horizontal",
            "style": "IPY_MODEL_953adf4f7be4404dbde3aea143dedfa6",
            "value": 257706
          }
        },
        "36c29aca057c4093a841156a01f501e2": {
          "model_module": "@jupyter-widgets/controls",
          "model_name": "HTMLModel",
          "model_module_version": "1.5.0",
          "state": {
            "_dom_classes": [],
            "_model_module": "@jupyter-widgets/controls",
            "_model_module_version": "1.5.0",
            "_model_name": "HTMLModel",
            "_view_count": null,
            "_view_module": "@jupyter-widgets/controls",
            "_view_module_version": "1.5.0",
            "_view_name": "HTMLView",
            "description": "",
            "description_tooltip": null,
            "layout": "IPY_MODEL_9fc0a872cf624fecaa151baad9ec731b",
            "placeholder": "​",
            "style": "IPY_MODEL_7639c84f2220460d83a284f31f6e7477",
            "value": " 252k/252k [00:00&lt;00:00, 272kB/s]"
          }
        },
        "cbb7b8fc2aa4412e8d0e5eb12cb60915": {
          "model_module": "@jupyter-widgets/base",
          "model_name": "LayoutModel",
          "model_module_version": "1.2.0",
          "state": {
            "_model_module": "@jupyter-widgets/base",
            "_model_module_version": "1.2.0",
            "_model_name": "LayoutModel",
            "_view_count": null,
            "_view_module": "@jupyter-widgets/base",
            "_view_module_version": "1.2.0",
            "_view_name": "LayoutView",
            "align_content": null,
            "align_items": null,
            "align_self": null,
            "border": null,
            "bottom": null,
            "display": null,
            "flex": null,
            "flex_flow": null,
            "grid_area": null,
            "grid_auto_columns": null,
            "grid_auto_flow": null,
            "grid_auto_rows": null,
            "grid_column": null,
            "grid_gap": null,
            "grid_row": null,
            "grid_template_areas": null,
            "grid_template_columns": null,
            "grid_template_rows": null,
            "height": null,
            "justify_content": null,
            "justify_items": null,
            "left": null,
            "margin": null,
            "max_height": null,
            "max_width": null,
            "min_height": null,
            "min_width": null,
            "object_fit": null,
            "object_position": null,
            "order": null,
            "overflow": null,
            "overflow_x": null,
            "overflow_y": null,
            "padding": null,
            "right": null,
            "top": null,
            "visibility": null,
            "width": null
          }
        },
        "0845dc9f1bd7485f874794a9267987e8": {
          "model_module": "@jupyter-widgets/base",
          "model_name": "LayoutModel",
          "model_module_version": "1.2.0",
          "state": {
            "_model_module": "@jupyter-widgets/base",
            "_model_module_version": "1.2.0",
            "_model_name": "LayoutModel",
            "_view_count": null,
            "_view_module": "@jupyter-widgets/base",
            "_view_module_version": "1.2.0",
            "_view_name": "LayoutView",
            "align_content": null,
            "align_items": null,
            "align_self": null,
            "border": null,
            "bottom": null,
            "display": null,
            "flex": null,
            "flex_flow": null,
            "grid_area": null,
            "grid_auto_columns": null,
            "grid_auto_flow": null,
            "grid_auto_rows": null,
            "grid_column": null,
            "grid_gap": null,
            "grid_row": null,
            "grid_template_areas": null,
            "grid_template_columns": null,
            "grid_template_rows": null,
            "height": null,
            "justify_content": null,
            "justify_items": null,
            "left": null,
            "margin": null,
            "max_height": null,
            "max_width": null,
            "min_height": null,
            "min_width": null,
            "object_fit": null,
            "object_position": null,
            "order": null,
            "overflow": null,
            "overflow_x": null,
            "overflow_y": null,
            "padding": null,
            "right": null,
            "top": null,
            "visibility": null,
            "width": null
          }
        },
        "fbb96924078f412e8c0a09fef43038b1": {
          "model_module": "@jupyter-widgets/controls",
          "model_name": "DescriptionStyleModel",
          "model_module_version": "1.5.0",
          "state": {
            "_model_module": "@jupyter-widgets/controls",
            "_model_module_version": "1.5.0",
            "_model_name": "DescriptionStyleModel",
            "_view_count": null,
            "_view_module": "@jupyter-widgets/base",
            "_view_module_version": "1.2.0",
            "_view_name": "StyleView",
            "description_width": ""
          }
        },
        "546753163ba14877bdf8510c02844b9c": {
          "model_module": "@jupyter-widgets/base",
          "model_name": "LayoutModel",
          "model_module_version": "1.2.0",
          "state": {
            "_model_module": "@jupyter-widgets/base",
            "_model_module_version": "1.2.0",
            "_model_name": "LayoutModel",
            "_view_count": null,
            "_view_module": "@jupyter-widgets/base",
            "_view_module_version": "1.2.0",
            "_view_name": "LayoutView",
            "align_content": null,
            "align_items": null,
            "align_self": null,
            "border": null,
            "bottom": null,
            "display": null,
            "flex": null,
            "flex_flow": null,
            "grid_area": null,
            "grid_auto_columns": null,
            "grid_auto_flow": null,
            "grid_auto_rows": null,
            "grid_column": null,
            "grid_gap": null,
            "grid_row": null,
            "grid_template_areas": null,
            "grid_template_columns": null,
            "grid_template_rows": null,
            "height": null,
            "justify_content": null,
            "justify_items": null,
            "left": null,
            "margin": null,
            "max_height": null,
            "max_width": null,
            "min_height": null,
            "min_width": null,
            "object_fit": null,
            "object_position": null,
            "order": null,
            "overflow": null,
            "overflow_x": null,
            "overflow_y": null,
            "padding": null,
            "right": null,
            "top": null,
            "visibility": null,
            "width": null
          }
        },
        "953adf4f7be4404dbde3aea143dedfa6": {
          "model_module": "@jupyter-widgets/controls",
          "model_name": "ProgressStyleModel",
          "model_module_version": "1.5.0",
          "state": {
            "_model_module": "@jupyter-widgets/controls",
            "_model_module_version": "1.5.0",
            "_model_name": "ProgressStyleModel",
            "_view_count": null,
            "_view_module": "@jupyter-widgets/base",
            "_view_module_version": "1.2.0",
            "_view_name": "StyleView",
            "bar_color": null,
            "description_width": ""
          }
        },
        "9fc0a872cf624fecaa151baad9ec731b": {
          "model_module": "@jupyter-widgets/base",
          "model_name": "LayoutModel",
          "model_module_version": "1.2.0",
          "state": {
            "_model_module": "@jupyter-widgets/base",
            "_model_module_version": "1.2.0",
            "_model_name": "LayoutModel",
            "_view_count": null,
            "_view_module": "@jupyter-widgets/base",
            "_view_module_version": "1.2.0",
            "_view_name": "LayoutView",
            "align_content": null,
            "align_items": null,
            "align_self": null,
            "border": null,
            "bottom": null,
            "display": null,
            "flex": null,
            "flex_flow": null,
            "grid_area": null,
            "grid_auto_columns": null,
            "grid_auto_flow": null,
            "grid_auto_rows": null,
            "grid_column": null,
            "grid_gap": null,
            "grid_row": null,
            "grid_template_areas": null,
            "grid_template_columns": null,
            "grid_template_rows": null,
            "height": null,
            "justify_content": null,
            "justify_items": null,
            "left": null,
            "margin": null,
            "max_height": null,
            "max_width": null,
            "min_height": null,
            "min_width": null,
            "object_fit": null,
            "object_position": null,
            "order": null,
            "overflow": null,
            "overflow_x": null,
            "overflow_y": null,
            "padding": null,
            "right": null,
            "top": null,
            "visibility": null,
            "width": null
          }
        },
        "7639c84f2220460d83a284f31f6e7477": {
          "model_module": "@jupyter-widgets/controls",
          "model_name": "DescriptionStyleModel",
          "model_module_version": "1.5.0",
          "state": {
            "_model_module": "@jupyter-widgets/controls",
            "_model_module_version": "1.5.0",
            "_model_name": "DescriptionStyleModel",
            "_view_count": null,
            "_view_module": "@jupyter-widgets/base",
            "_view_module_version": "1.2.0",
            "_view_name": "StyleView",
            "description_width": ""
          }
        },
        "ee112e564f6246d6902f286342b5e1fc": {
          "model_module": "@jupyter-widgets/controls",
          "model_name": "HBoxModel",
          "model_module_version": "1.5.0",
          "state": {
            "_dom_classes": [],
            "_model_module": "@jupyter-widgets/controls",
            "_model_module_version": "1.5.0",
            "_model_name": "HBoxModel",
            "_view_count": null,
            "_view_module": "@jupyter-widgets/controls",
            "_view_module_version": "1.5.0",
            "_view_name": "HBoxView",
            "box_style": "",
            "children": [
              "IPY_MODEL_b69c6052ca8e493caa859879948a23e2",
              "IPY_MODEL_04132c799def4ca99654fc5d90fdbfc5",
              "IPY_MODEL_1edb58d683ef4637b853cb7f929b489a"
            ],
            "layout": "IPY_MODEL_64a295b8ae864b378127c0b39469d109"
          }
        },
        "b69c6052ca8e493caa859879948a23e2": {
          "model_module": "@jupyter-widgets/controls",
          "model_name": "HTMLModel",
          "model_module_version": "1.5.0",
          "state": {
            "_dom_classes": [],
            "_model_module": "@jupyter-widgets/controls",
            "_model_module_version": "1.5.0",
            "_model_name": "HTMLModel",
            "_view_count": null,
            "_view_module": "@jupyter-widgets/controls",
            "_view_module_version": "1.5.0",
            "_view_name": "HTMLView",
            "description": "",
            "description_tooltip": null,
            "layout": "IPY_MODEL_417bac7ab37c4665a24f48feae9aafbc",
            "placeholder": "​",
            "style": "IPY_MODEL_4f2d1858d39d46ac8f860438ae02ebb8",
            "value": "Downloading tokenizer_config.json: 100%"
          }
        },
        "04132c799def4ca99654fc5d90fdbfc5": {
          "model_module": "@jupyter-widgets/controls",
          "model_name": "FloatProgressModel",
          "model_module_version": "1.5.0",
          "state": {
            "_dom_classes": [],
            "_model_module": "@jupyter-widgets/controls",
            "_model_module_version": "1.5.0",
            "_model_name": "FloatProgressModel",
            "_view_count": null,
            "_view_module": "@jupyter-widgets/controls",
            "_view_module_version": "1.5.0",
            "_view_name": "ProgressView",
            "bar_style": "success",
            "description": "",
            "description_tooltip": null,
            "layout": "IPY_MODEL_3bd93b80058a4919a430e861ecc89ba5",
            "max": 110,
            "min": 0,
            "orientation": "horizontal",
            "style": "IPY_MODEL_f95ad2e17a484bc899c7b3add129444d",
            "value": 110
          }
        },
        "1edb58d683ef4637b853cb7f929b489a": {
          "model_module": "@jupyter-widgets/controls",
          "model_name": "HTMLModel",
          "model_module_version": "1.5.0",
          "state": {
            "_dom_classes": [],
            "_model_module": "@jupyter-widgets/controls",
            "_model_module_version": "1.5.0",
            "_model_name": "HTMLModel",
            "_view_count": null,
            "_view_module": "@jupyter-widgets/controls",
            "_view_module_version": "1.5.0",
            "_view_name": "HTMLView",
            "description": "",
            "description_tooltip": null,
            "layout": "IPY_MODEL_21ff8fb6fc1448fcb871d65f5cb91a64",
            "placeholder": "​",
            "style": "IPY_MODEL_de56de3ba5994826a3eb4dfdeda421c5",
            "value": " 110/110 [00:00&lt;00:00, 6.59kB/s]"
          }
        },
        "64a295b8ae864b378127c0b39469d109": {
          "model_module": "@jupyter-widgets/base",
          "model_name": "LayoutModel",
          "model_module_version": "1.2.0",
          "state": {
            "_model_module": "@jupyter-widgets/base",
            "_model_module_version": "1.2.0",
            "_model_name": "LayoutModel",
            "_view_count": null,
            "_view_module": "@jupyter-widgets/base",
            "_view_module_version": "1.2.0",
            "_view_name": "LayoutView",
            "align_content": null,
            "align_items": null,
            "align_self": null,
            "border": null,
            "bottom": null,
            "display": null,
            "flex": null,
            "flex_flow": null,
            "grid_area": null,
            "grid_auto_columns": null,
            "grid_auto_flow": null,
            "grid_auto_rows": null,
            "grid_column": null,
            "grid_gap": null,
            "grid_row": null,
            "grid_template_areas": null,
            "grid_template_columns": null,
            "grid_template_rows": null,
            "height": null,
            "justify_content": null,
            "justify_items": null,
            "left": null,
            "margin": null,
            "max_height": null,
            "max_width": null,
            "min_height": null,
            "min_width": null,
            "object_fit": null,
            "object_position": null,
            "order": null,
            "overflow": null,
            "overflow_x": null,
            "overflow_y": null,
            "padding": null,
            "right": null,
            "top": null,
            "visibility": null,
            "width": null
          }
        },
        "417bac7ab37c4665a24f48feae9aafbc": {
          "model_module": "@jupyter-widgets/base",
          "model_name": "LayoutModel",
          "model_module_version": "1.2.0",
          "state": {
            "_model_module": "@jupyter-widgets/base",
            "_model_module_version": "1.2.0",
            "_model_name": "LayoutModel",
            "_view_count": null,
            "_view_module": "@jupyter-widgets/base",
            "_view_module_version": "1.2.0",
            "_view_name": "LayoutView",
            "align_content": null,
            "align_items": null,
            "align_self": null,
            "border": null,
            "bottom": null,
            "display": null,
            "flex": null,
            "flex_flow": null,
            "grid_area": null,
            "grid_auto_columns": null,
            "grid_auto_flow": null,
            "grid_auto_rows": null,
            "grid_column": null,
            "grid_gap": null,
            "grid_row": null,
            "grid_template_areas": null,
            "grid_template_columns": null,
            "grid_template_rows": null,
            "height": null,
            "justify_content": null,
            "justify_items": null,
            "left": null,
            "margin": null,
            "max_height": null,
            "max_width": null,
            "min_height": null,
            "min_width": null,
            "object_fit": null,
            "object_position": null,
            "order": null,
            "overflow": null,
            "overflow_x": null,
            "overflow_y": null,
            "padding": null,
            "right": null,
            "top": null,
            "visibility": null,
            "width": null
          }
        },
        "4f2d1858d39d46ac8f860438ae02ebb8": {
          "model_module": "@jupyter-widgets/controls",
          "model_name": "DescriptionStyleModel",
          "model_module_version": "1.5.0",
          "state": {
            "_model_module": "@jupyter-widgets/controls",
            "_model_module_version": "1.5.0",
            "_model_name": "DescriptionStyleModel",
            "_view_count": null,
            "_view_module": "@jupyter-widgets/base",
            "_view_module_version": "1.2.0",
            "_view_name": "StyleView",
            "description_width": ""
          }
        },
        "3bd93b80058a4919a430e861ecc89ba5": {
          "model_module": "@jupyter-widgets/base",
          "model_name": "LayoutModel",
          "model_module_version": "1.2.0",
          "state": {
            "_model_module": "@jupyter-widgets/base",
            "_model_module_version": "1.2.0",
            "_model_name": "LayoutModel",
            "_view_count": null,
            "_view_module": "@jupyter-widgets/base",
            "_view_module_version": "1.2.0",
            "_view_name": "LayoutView",
            "align_content": null,
            "align_items": null,
            "align_self": null,
            "border": null,
            "bottom": null,
            "display": null,
            "flex": null,
            "flex_flow": null,
            "grid_area": null,
            "grid_auto_columns": null,
            "grid_auto_flow": null,
            "grid_auto_rows": null,
            "grid_column": null,
            "grid_gap": null,
            "grid_row": null,
            "grid_template_areas": null,
            "grid_template_columns": null,
            "grid_template_rows": null,
            "height": null,
            "justify_content": null,
            "justify_items": null,
            "left": null,
            "margin": null,
            "max_height": null,
            "max_width": null,
            "min_height": null,
            "min_width": null,
            "object_fit": null,
            "object_position": null,
            "order": null,
            "overflow": null,
            "overflow_x": null,
            "overflow_y": null,
            "padding": null,
            "right": null,
            "top": null,
            "visibility": null,
            "width": null
          }
        },
        "f95ad2e17a484bc899c7b3add129444d": {
          "model_module": "@jupyter-widgets/controls",
          "model_name": "ProgressStyleModel",
          "model_module_version": "1.5.0",
          "state": {
            "_model_module": "@jupyter-widgets/controls",
            "_model_module_version": "1.5.0",
            "_model_name": "ProgressStyleModel",
            "_view_count": null,
            "_view_module": "@jupyter-widgets/base",
            "_view_module_version": "1.2.0",
            "_view_name": "StyleView",
            "bar_color": null,
            "description_width": ""
          }
        },
        "21ff8fb6fc1448fcb871d65f5cb91a64": {
          "model_module": "@jupyter-widgets/base",
          "model_name": "LayoutModel",
          "model_module_version": "1.2.0",
          "state": {
            "_model_module": "@jupyter-widgets/base",
            "_model_module_version": "1.2.0",
            "_model_name": "LayoutModel",
            "_view_count": null,
            "_view_module": "@jupyter-widgets/base",
            "_view_module_version": "1.2.0",
            "_view_name": "LayoutView",
            "align_content": null,
            "align_items": null,
            "align_self": null,
            "border": null,
            "bottom": null,
            "display": null,
            "flex": null,
            "flex_flow": null,
            "grid_area": null,
            "grid_auto_columns": null,
            "grid_auto_flow": null,
            "grid_auto_rows": null,
            "grid_column": null,
            "grid_gap": null,
            "grid_row": null,
            "grid_template_areas": null,
            "grid_template_columns": null,
            "grid_template_rows": null,
            "height": null,
            "justify_content": null,
            "justify_items": null,
            "left": null,
            "margin": null,
            "max_height": null,
            "max_width": null,
            "min_height": null,
            "min_width": null,
            "object_fit": null,
            "object_position": null,
            "order": null,
            "overflow": null,
            "overflow_x": null,
            "overflow_y": null,
            "padding": null,
            "right": null,
            "top": null,
            "visibility": null,
            "width": null
          }
        },
        "de56de3ba5994826a3eb4dfdeda421c5": {
          "model_module": "@jupyter-widgets/controls",
          "model_name": "DescriptionStyleModel",
          "model_module_version": "1.5.0",
          "state": {
            "_model_module": "@jupyter-widgets/controls",
            "_model_module_version": "1.5.0",
            "_model_name": "DescriptionStyleModel",
            "_view_count": null,
            "_view_module": "@jupyter-widgets/base",
            "_view_module_version": "1.2.0",
            "_view_name": "StyleView",
            "description_width": ""
          }
        },
        "a4c12c9616604be69c608e98f0dd833a": {
          "model_module": "@jupyter-widgets/controls",
          "model_name": "HBoxModel",
          "model_module_version": "1.5.0",
          "state": {
            "_dom_classes": [],
            "_model_module": "@jupyter-widgets/controls",
            "_model_module_version": "1.5.0",
            "_model_name": "HBoxModel",
            "_view_count": null,
            "_view_module": "@jupyter-widgets/controls",
            "_view_module_version": "1.5.0",
            "_view_name": "HBoxView",
            "box_style": "",
            "children": [
              "IPY_MODEL_ca259a68a7c04d9c8e85434d8d378bed",
              "IPY_MODEL_0c07c66204c54a479f48597b9ca9a61d",
              "IPY_MODEL_71066d4ff54a459982de6ada51054f40"
            ],
            "layout": "IPY_MODEL_4892da76f74e4436afc21f55798b8153"
          }
        },
        "ca259a68a7c04d9c8e85434d8d378bed": {
          "model_module": "@jupyter-widgets/controls",
          "model_name": "HTMLModel",
          "model_module_version": "1.5.0",
          "state": {
            "_dom_classes": [],
            "_model_module": "@jupyter-widgets/controls",
            "_model_module_version": "1.5.0",
            "_model_name": "HTMLModel",
            "_view_count": null,
            "_view_module": "@jupyter-widgets/controls",
            "_view_module_version": "1.5.0",
            "_view_name": "HTMLView",
            "description": "",
            "description_tooltip": null,
            "layout": "IPY_MODEL_e7b7049224734a2b8cfa7d83a30f47c8",
            "placeholder": "​",
            "style": "IPY_MODEL_f14ad13b68c24452b6ae687f444e9068",
            "value": "Downloading config.json: 100%"
          }
        },
        "0c07c66204c54a479f48597b9ca9a61d": {
          "model_module": "@jupyter-widgets/controls",
          "model_name": "FloatProgressModel",
          "model_module_version": "1.5.0",
          "state": {
            "_dom_classes": [],
            "_model_module": "@jupyter-widgets/controls",
            "_model_module_version": "1.5.0",
            "_model_name": "FloatProgressModel",
            "_view_count": null,
            "_view_module": "@jupyter-widgets/controls",
            "_view_module_version": "1.5.0",
            "_view_name": "ProgressView",
            "bar_style": "success",
            "description": "",
            "description_tooltip": null,
            "layout": "IPY_MODEL_0e1ef5ebe5b8407e8a37e52306fe2f9d",
            "max": 479,
            "min": 0,
            "orientation": "horizontal",
            "style": "IPY_MODEL_f216e197b64e4f6d9d6095e8902072a8",
            "value": 479
          }
        },
        "71066d4ff54a459982de6ada51054f40": {
          "model_module": "@jupyter-widgets/controls",
          "model_name": "HTMLModel",
          "model_module_version": "1.5.0",
          "state": {
            "_dom_classes": [],
            "_model_module": "@jupyter-widgets/controls",
            "_model_module_version": "1.5.0",
            "_model_name": "HTMLModel",
            "_view_count": null,
            "_view_module": "@jupyter-widgets/controls",
            "_view_module_version": "1.5.0",
            "_view_name": "HTMLView",
            "description": "",
            "description_tooltip": null,
            "layout": "IPY_MODEL_56a336f749cc4512a5deafd2c2065430",
            "placeholder": "​",
            "style": "IPY_MODEL_8c6dab8b9cca452a935d2b8a174042d5",
            "value": " 479/479 [00:00&lt;00:00, 8.72kB/s]"
          }
        },
        "4892da76f74e4436afc21f55798b8153": {
          "model_module": "@jupyter-widgets/base",
          "model_name": "LayoutModel",
          "model_module_version": "1.2.0",
          "state": {
            "_model_module": "@jupyter-widgets/base",
            "_model_module_version": "1.2.0",
            "_model_name": "LayoutModel",
            "_view_count": null,
            "_view_module": "@jupyter-widgets/base",
            "_view_module_version": "1.2.0",
            "_view_name": "LayoutView",
            "align_content": null,
            "align_items": null,
            "align_self": null,
            "border": null,
            "bottom": null,
            "display": null,
            "flex": null,
            "flex_flow": null,
            "grid_area": null,
            "grid_auto_columns": null,
            "grid_auto_flow": null,
            "grid_auto_rows": null,
            "grid_column": null,
            "grid_gap": null,
            "grid_row": null,
            "grid_template_areas": null,
            "grid_template_columns": null,
            "grid_template_rows": null,
            "height": null,
            "justify_content": null,
            "justify_items": null,
            "left": null,
            "margin": null,
            "max_height": null,
            "max_width": null,
            "min_height": null,
            "min_width": null,
            "object_fit": null,
            "object_position": null,
            "order": null,
            "overflow": null,
            "overflow_x": null,
            "overflow_y": null,
            "padding": null,
            "right": null,
            "top": null,
            "visibility": null,
            "width": null
          }
        },
        "e7b7049224734a2b8cfa7d83a30f47c8": {
          "model_module": "@jupyter-widgets/base",
          "model_name": "LayoutModel",
          "model_module_version": "1.2.0",
          "state": {
            "_model_module": "@jupyter-widgets/base",
            "_model_module_version": "1.2.0",
            "_model_name": "LayoutModel",
            "_view_count": null,
            "_view_module": "@jupyter-widgets/base",
            "_view_module_version": "1.2.0",
            "_view_name": "LayoutView",
            "align_content": null,
            "align_items": null,
            "align_self": null,
            "border": null,
            "bottom": null,
            "display": null,
            "flex": null,
            "flex_flow": null,
            "grid_area": null,
            "grid_auto_columns": null,
            "grid_auto_flow": null,
            "grid_auto_rows": null,
            "grid_column": null,
            "grid_gap": null,
            "grid_row": null,
            "grid_template_areas": null,
            "grid_template_columns": null,
            "grid_template_rows": null,
            "height": null,
            "justify_content": null,
            "justify_items": null,
            "left": null,
            "margin": null,
            "max_height": null,
            "max_width": null,
            "min_height": null,
            "min_width": null,
            "object_fit": null,
            "object_position": null,
            "order": null,
            "overflow": null,
            "overflow_x": null,
            "overflow_y": null,
            "padding": null,
            "right": null,
            "top": null,
            "visibility": null,
            "width": null
          }
        },
        "f14ad13b68c24452b6ae687f444e9068": {
          "model_module": "@jupyter-widgets/controls",
          "model_name": "DescriptionStyleModel",
          "model_module_version": "1.5.0",
          "state": {
            "_model_module": "@jupyter-widgets/controls",
            "_model_module_version": "1.5.0",
            "_model_name": "DescriptionStyleModel",
            "_view_count": null,
            "_view_module": "@jupyter-widgets/base",
            "_view_module_version": "1.2.0",
            "_view_name": "StyleView",
            "description_width": ""
          }
        },
        "0e1ef5ebe5b8407e8a37e52306fe2f9d": {
          "model_module": "@jupyter-widgets/base",
          "model_name": "LayoutModel",
          "model_module_version": "1.2.0",
          "state": {
            "_model_module": "@jupyter-widgets/base",
            "_model_module_version": "1.2.0",
            "_model_name": "LayoutModel",
            "_view_count": null,
            "_view_module": "@jupyter-widgets/base",
            "_view_module_version": "1.2.0",
            "_view_name": "LayoutView",
            "align_content": null,
            "align_items": null,
            "align_self": null,
            "border": null,
            "bottom": null,
            "display": null,
            "flex": null,
            "flex_flow": null,
            "grid_area": null,
            "grid_auto_columns": null,
            "grid_auto_flow": null,
            "grid_auto_rows": null,
            "grid_column": null,
            "grid_gap": null,
            "grid_row": null,
            "grid_template_areas": null,
            "grid_template_columns": null,
            "grid_template_rows": null,
            "height": null,
            "justify_content": null,
            "justify_items": null,
            "left": null,
            "margin": null,
            "max_height": null,
            "max_width": null,
            "min_height": null,
            "min_width": null,
            "object_fit": null,
            "object_position": null,
            "order": null,
            "overflow": null,
            "overflow_x": null,
            "overflow_y": null,
            "padding": null,
            "right": null,
            "top": null,
            "visibility": null,
            "width": null
          }
        },
        "f216e197b64e4f6d9d6095e8902072a8": {
          "model_module": "@jupyter-widgets/controls",
          "model_name": "ProgressStyleModel",
          "model_module_version": "1.5.0",
          "state": {
            "_model_module": "@jupyter-widgets/controls",
            "_model_module_version": "1.5.0",
            "_model_name": "ProgressStyleModel",
            "_view_count": null,
            "_view_module": "@jupyter-widgets/base",
            "_view_module_version": "1.2.0",
            "_view_name": "StyleView",
            "bar_color": null,
            "description_width": ""
          }
        },
        "56a336f749cc4512a5deafd2c2065430": {
          "model_module": "@jupyter-widgets/base",
          "model_name": "LayoutModel",
          "model_module_version": "1.2.0",
          "state": {
            "_model_module": "@jupyter-widgets/base",
            "_model_module_version": "1.2.0",
            "_model_name": "LayoutModel",
            "_view_count": null,
            "_view_module": "@jupyter-widgets/base",
            "_view_module_version": "1.2.0",
            "_view_name": "LayoutView",
            "align_content": null,
            "align_items": null,
            "align_self": null,
            "border": null,
            "bottom": null,
            "display": null,
            "flex": null,
            "flex_flow": null,
            "grid_area": null,
            "grid_auto_columns": null,
            "grid_auto_flow": null,
            "grid_auto_rows": null,
            "grid_column": null,
            "grid_gap": null,
            "grid_row": null,
            "grid_template_areas": null,
            "grid_template_columns": null,
            "grid_template_rows": null,
            "height": null,
            "justify_content": null,
            "justify_items": null,
            "left": null,
            "margin": null,
            "max_height": null,
            "max_width": null,
            "min_height": null,
            "min_width": null,
            "object_fit": null,
            "object_position": null,
            "order": null,
            "overflow": null,
            "overflow_x": null,
            "overflow_y": null,
            "padding": null,
            "right": null,
            "top": null,
            "visibility": null,
            "width": null
          }
        },
        "8c6dab8b9cca452a935d2b8a174042d5": {
          "model_module": "@jupyter-widgets/controls",
          "model_name": "DescriptionStyleModel",
          "model_module_version": "1.5.0",
          "state": {
            "_model_module": "@jupyter-widgets/controls",
            "_model_module_version": "1.5.0",
            "_model_name": "DescriptionStyleModel",
            "_view_count": null,
            "_view_module": "@jupyter-widgets/base",
            "_view_module_version": "1.2.0",
            "_view_name": "StyleView",
            "description_width": ""
          }
        },
        "334b6c1ac99f45d6a4af88d1f428b8c7": {
          "model_module": "@jupyter-widgets/controls",
          "model_name": "HBoxModel",
          "model_module_version": "1.5.0",
          "state": {
            "_dom_classes": [],
            "_model_module": "@jupyter-widgets/controls",
            "_model_module_version": "1.5.0",
            "_model_name": "HBoxModel",
            "_view_count": null,
            "_view_module": "@jupyter-widgets/controls",
            "_view_module_version": "1.5.0",
            "_view_name": "HBoxView",
            "box_style": "",
            "children": [
              "IPY_MODEL_c9a5d73b380348ad99c59d6c61159aea",
              "IPY_MODEL_93531d383de741fea33f5d30c482f13f",
              "IPY_MODEL_a900a24103d943fb8870e9e5466502e5"
            ],
            "layout": "IPY_MODEL_a217f3413d74481dabd840a961c3c3cf"
          }
        },
        "c9a5d73b380348ad99c59d6c61159aea": {
          "model_module": "@jupyter-widgets/controls",
          "model_name": "HTMLModel",
          "model_module_version": "1.5.0",
          "state": {
            "_dom_classes": [],
            "_model_module": "@jupyter-widgets/controls",
            "_model_module_version": "1.5.0",
            "_model_name": "HTMLModel",
            "_view_count": null,
            "_view_module": "@jupyter-widgets/controls",
            "_view_module_version": "1.5.0",
            "_view_name": "HTMLView",
            "description": "",
            "description_tooltip": null,
            "layout": "IPY_MODEL_94a5a14ce028423890864b34c738894e",
            "placeholder": "​",
            "style": "IPY_MODEL_6c80a2a518424ad596c2fc7084969069",
            "value": "Downloading pytorch_model.bin: 100%"
          }
        },
        "93531d383de741fea33f5d30c482f13f": {
          "model_module": "@jupyter-widgets/controls",
          "model_name": "FloatProgressModel",
          "model_module_version": "1.5.0",
          "state": {
            "_dom_classes": [],
            "_model_module": "@jupyter-widgets/controls",
            "_model_module_version": "1.5.0",
            "_model_name": "FloatProgressModel",
            "_view_count": null,
            "_view_module": "@jupyter-widgets/controls",
            "_view_module_version": "1.5.0",
            "_view_name": "ProgressView",
            "bar_style": "success",
            "description": "",
            "description_tooltip": null,
            "layout": "IPY_MODEL_a1d12575f8ac408bbb5f14181573c552",
            "max": 445021143,
            "min": 0,
            "orientation": "horizontal",
            "style": "IPY_MODEL_7a09fe5c85d94b8786e1d4834a7b3208",
            "value": 445021143
          }
        },
        "a900a24103d943fb8870e9e5466502e5": {
          "model_module": "@jupyter-widgets/controls",
          "model_name": "HTMLModel",
          "model_module_version": "1.5.0",
          "state": {
            "_dom_classes": [],
            "_model_module": "@jupyter-widgets/controls",
            "_model_module_version": "1.5.0",
            "_model_name": "HTMLModel",
            "_view_count": null,
            "_view_module": "@jupyter-widgets/controls",
            "_view_module_version": "1.5.0",
            "_view_name": "HTMLView",
            "description": "",
            "description_tooltip": null,
            "layout": "IPY_MODEL_9995bda8285d4be8aa77989b97e90cde",
            "placeholder": "​",
            "style": "IPY_MODEL_d34e6475649541328a3335532724db9f",
            "value": " 424M/424M [00:07&lt;00:00, 32.0MB/s]"
          }
        },
        "a217f3413d74481dabd840a961c3c3cf": {
          "model_module": "@jupyter-widgets/base",
          "model_name": "LayoutModel",
          "model_module_version": "1.2.0",
          "state": {
            "_model_module": "@jupyter-widgets/base",
            "_model_module_version": "1.2.0",
            "_model_name": "LayoutModel",
            "_view_count": null,
            "_view_module": "@jupyter-widgets/base",
            "_view_module_version": "1.2.0",
            "_view_name": "LayoutView",
            "align_content": null,
            "align_items": null,
            "align_self": null,
            "border": null,
            "bottom": null,
            "display": null,
            "flex": null,
            "flex_flow": null,
            "grid_area": null,
            "grid_auto_columns": null,
            "grid_auto_flow": null,
            "grid_auto_rows": null,
            "grid_column": null,
            "grid_gap": null,
            "grid_row": null,
            "grid_template_areas": null,
            "grid_template_columns": null,
            "grid_template_rows": null,
            "height": null,
            "justify_content": null,
            "justify_items": null,
            "left": null,
            "margin": null,
            "max_height": null,
            "max_width": null,
            "min_height": null,
            "min_width": null,
            "object_fit": null,
            "object_position": null,
            "order": null,
            "overflow": null,
            "overflow_x": null,
            "overflow_y": null,
            "padding": null,
            "right": null,
            "top": null,
            "visibility": null,
            "width": null
          }
        },
        "94a5a14ce028423890864b34c738894e": {
          "model_module": "@jupyter-widgets/base",
          "model_name": "LayoutModel",
          "model_module_version": "1.2.0",
          "state": {
            "_model_module": "@jupyter-widgets/base",
            "_model_module_version": "1.2.0",
            "_model_name": "LayoutModel",
            "_view_count": null,
            "_view_module": "@jupyter-widgets/base",
            "_view_module_version": "1.2.0",
            "_view_name": "LayoutView",
            "align_content": null,
            "align_items": null,
            "align_self": null,
            "border": null,
            "bottom": null,
            "display": null,
            "flex": null,
            "flex_flow": null,
            "grid_area": null,
            "grid_auto_columns": null,
            "grid_auto_flow": null,
            "grid_auto_rows": null,
            "grid_column": null,
            "grid_gap": null,
            "grid_row": null,
            "grid_template_areas": null,
            "grid_template_columns": null,
            "grid_template_rows": null,
            "height": null,
            "justify_content": null,
            "justify_items": null,
            "left": null,
            "margin": null,
            "max_height": null,
            "max_width": null,
            "min_height": null,
            "min_width": null,
            "object_fit": null,
            "object_position": null,
            "order": null,
            "overflow": null,
            "overflow_x": null,
            "overflow_y": null,
            "padding": null,
            "right": null,
            "top": null,
            "visibility": null,
            "width": null
          }
        },
        "6c80a2a518424ad596c2fc7084969069": {
          "model_module": "@jupyter-widgets/controls",
          "model_name": "DescriptionStyleModel",
          "model_module_version": "1.5.0",
          "state": {
            "_model_module": "@jupyter-widgets/controls",
            "_model_module_version": "1.5.0",
            "_model_name": "DescriptionStyleModel",
            "_view_count": null,
            "_view_module": "@jupyter-widgets/base",
            "_view_module_version": "1.2.0",
            "_view_name": "StyleView",
            "description_width": ""
          }
        },
        "a1d12575f8ac408bbb5f14181573c552": {
          "model_module": "@jupyter-widgets/base",
          "model_name": "LayoutModel",
          "model_module_version": "1.2.0",
          "state": {
            "_model_module": "@jupyter-widgets/base",
            "_model_module_version": "1.2.0",
            "_model_name": "LayoutModel",
            "_view_count": null,
            "_view_module": "@jupyter-widgets/base",
            "_view_module_version": "1.2.0",
            "_view_name": "LayoutView",
            "align_content": null,
            "align_items": null,
            "align_self": null,
            "border": null,
            "bottom": null,
            "display": null,
            "flex": null,
            "flex_flow": null,
            "grid_area": null,
            "grid_auto_columns": null,
            "grid_auto_flow": null,
            "grid_auto_rows": null,
            "grid_column": null,
            "grid_gap": null,
            "grid_row": null,
            "grid_template_areas": null,
            "grid_template_columns": null,
            "grid_template_rows": null,
            "height": null,
            "justify_content": null,
            "justify_items": null,
            "left": null,
            "margin": null,
            "max_height": null,
            "max_width": null,
            "min_height": null,
            "min_width": null,
            "object_fit": null,
            "object_position": null,
            "order": null,
            "overflow": null,
            "overflow_x": null,
            "overflow_y": null,
            "padding": null,
            "right": null,
            "top": null,
            "visibility": null,
            "width": null
          }
        },
        "7a09fe5c85d94b8786e1d4834a7b3208": {
          "model_module": "@jupyter-widgets/controls",
          "model_name": "ProgressStyleModel",
          "model_module_version": "1.5.0",
          "state": {
            "_model_module": "@jupyter-widgets/controls",
            "_model_module_version": "1.5.0",
            "_model_name": "ProgressStyleModel",
            "_view_count": null,
            "_view_module": "@jupyter-widgets/base",
            "_view_module_version": "1.2.0",
            "_view_name": "StyleView",
            "bar_color": null,
            "description_width": ""
          }
        },
        "9995bda8285d4be8aa77989b97e90cde": {
          "model_module": "@jupyter-widgets/base",
          "model_name": "LayoutModel",
          "model_module_version": "1.2.0",
          "state": {
            "_model_module": "@jupyter-widgets/base",
            "_model_module_version": "1.2.0",
            "_model_name": "LayoutModel",
            "_view_count": null,
            "_view_module": "@jupyter-widgets/base",
            "_view_module_version": "1.2.0",
            "_view_name": "LayoutView",
            "align_content": null,
            "align_items": null,
            "align_self": null,
            "border": null,
            "bottom": null,
            "display": null,
            "flex": null,
            "flex_flow": null,
            "grid_area": null,
            "grid_auto_columns": null,
            "grid_auto_flow": null,
            "grid_auto_rows": null,
            "grid_column": null,
            "grid_gap": null,
            "grid_row": null,
            "grid_template_areas": null,
            "grid_template_columns": null,
            "grid_template_rows": null,
            "height": null,
            "justify_content": null,
            "justify_items": null,
            "left": null,
            "margin": null,
            "max_height": null,
            "max_width": null,
            "min_height": null,
            "min_width": null,
            "object_fit": null,
            "object_position": null,
            "order": null,
            "overflow": null,
            "overflow_x": null,
            "overflow_y": null,
            "padding": null,
            "right": null,
            "top": null,
            "visibility": null,
            "width": null
          }
        },
        "d34e6475649541328a3335532724db9f": {
          "model_module": "@jupyter-widgets/controls",
          "model_name": "DescriptionStyleModel",
          "model_module_version": "1.5.0",
          "state": {
            "_model_module": "@jupyter-widgets/controls",
            "_model_module_version": "1.5.0",
            "_model_name": "DescriptionStyleModel",
            "_view_count": null,
            "_view_module": "@jupyter-widgets/base",
            "_view_module_version": "1.2.0",
            "_view_name": "StyleView",
            "description_width": ""
          }
        }
      }
    }
  },
  "cells": [
    {
      "cell_type": "markdown",
      "metadata": {
        "id": "view-in-github",
        "colab_type": "text"
      },
      "source": [
        "<a href=\"https://colab.research.google.com/github/eel-eel-eel/ric1340/blob/main/ch05_04_qa.ipynb\" target=\"_parent\"><img src=\"https://colab.research.google.com/assets/colab-badge.svg\" alt=\"Open In Colab\"/></a>"
      ]
    },
    {
      "cell_type": "markdown",
      "metadata": {
        "id": "pU1aqBOwb6U-"
      },
      "source": [
        "## 環境構築"
      ]
    },
    {
      "cell_type": "markdown",
      "metadata": {
        "id": "cP9YaVWBdA3s"
      },
      "source": [
        "Google Driveをマウント\n",
        "（データセットや学習済みモデルを格納する）"
      ]
    },
    {
      "cell_type": "markdown",
      "metadata": {
        "id": "z0OZFc2weWou"
      },
      "source": [
        "パスワードを求められた場合はリンクをクリックし、Googleアカウントにログインして表示された文字列を入力する。"
      ]
    },
    {
      "cell_type": "code",
      "metadata": {
        "colab": {
          "base_uri": "https://localhost:8080/"
        },
        "id": "LlPPR7NkcnSi",
        "outputId": "5eeae2b7-934a-4729-de77-c7724b05a9b2"
      },
      "source": [
        "from google.colab import drive\n",
        "\n",
        "drive.mount('/content/drive')"
      ],
      "execution_count": null,
      "outputs": [
        {
          "output_type": "stream",
          "name": "stdout",
          "text": [
            "Mounted at /content/drive\n"
          ]
        }
      ]
    },
    {
      "cell_type": "code",
      "metadata": {
        "colab": {
          "base_uri": "https://localhost:8080/"
        },
        "id": "GPgZs_U8TnW-",
        "outputId": "a6fdb06e-a2f1-46aa-e987-7ddf99c0dbce"
      },
      "source": [
        "import torch\n",
        "\n",
        "# 使用デバイスにGPUを設定\n",
        "# 以下のような出力が出ていれば正常に設定ができている\n",
        "# device(type='cuda', index=0)\n",
        "\n",
        "device = torch.device(\"cuda:0\" if torch.cuda.is_available() else \"cpu\")\n",
        "device"
      ],
      "execution_count": null,
      "outputs": [
        {
          "output_type": "execute_result",
          "data": {
            "text/plain": [
              "device(type='cuda', index=0)"
            ]
          },
          "metadata": {},
          "execution_count": 2
        }
      ]
    },
    {
      "cell_type": "markdown",
      "source": [
        "## モデルの定義"
      ],
      "metadata": {
        "id": "AdVV_pECl-6m"
      }
    },
    {
      "cell_type": "code",
      "metadata": {
        "colab": {
          "base_uri": "https://localhost:8080/"
        },
        "id": "KcnarTpDtpfL",
        "outputId": "223be89e-b6d7-4a7e-980d-f5192b0c4528"
      },
      "source": [
        "!pip install transformers[ja]==4.21.1"
      ],
      "execution_count": null,
      "outputs": [
        {
          "output_type": "stream",
          "name": "stdout",
          "text": [
            "Looking in indexes: https://pypi.org/simple, https://us-python.pkg.dev/colab-wheels/public/simple/\n",
            "Collecting transformers[ja]==4.21.1\n",
            "  Downloading transformers-4.21.1-py3-none-any.whl (4.7 MB)\n",
            "\u001b[K     |████████████████████████████████| 4.7 MB 29.9 MB/s \n",
            "\u001b[?25hRequirement already satisfied: pyyaml>=5.1 in /usr/local/lib/python3.8/dist-packages (from transformers[ja]==4.21.1) (6.0)\n",
            "Collecting tokenizers!=0.11.3,<0.13,>=0.11.1\n",
            "  Downloading tokenizers-0.12.1-cp38-cp38-manylinux_2_12_x86_64.manylinux2010_x86_64.whl (6.6 MB)\n",
            "\u001b[K     |████████████████████████████████| 6.6 MB 66.8 MB/s \n",
            "\u001b[?25hRequirement already satisfied: regex!=2019.12.17 in /usr/local/lib/python3.8/dist-packages (from transformers[ja]==4.21.1) (2022.6.2)\n",
            "Collecting huggingface-hub<1.0,>=0.1.0\n",
            "  Downloading huggingface_hub-0.11.1-py3-none-any.whl (182 kB)\n",
            "\u001b[K     |████████████████████████████████| 182 kB 81.0 MB/s \n",
            "\u001b[?25hRequirement already satisfied: tqdm>=4.27 in /usr/local/lib/python3.8/dist-packages (from transformers[ja]==4.21.1) (4.64.1)\n",
            "Requirement already satisfied: numpy>=1.17 in /usr/local/lib/python3.8/dist-packages (from transformers[ja]==4.21.1) (1.21.6)\n",
            "Requirement already satisfied: packaging>=20.0 in /usr/local/lib/python3.8/dist-packages (from transformers[ja]==4.21.1) (21.3)\n",
            "Requirement already satisfied: filelock in /usr/local/lib/python3.8/dist-packages (from transformers[ja]==4.21.1) (3.8.2)\n",
            "Requirement already satisfied: requests in /usr/local/lib/python3.8/dist-packages (from transformers[ja]==4.21.1) (2.23.0)\n",
            "Collecting ipadic<2.0,>=1.0.0\n",
            "  Downloading ipadic-1.0.0.tar.gz (13.4 MB)\n",
            "\u001b[K     |████████████████████████████████| 13.4 MB 58.0 MB/s \n",
            "\u001b[?25hCollecting unidic>=1.0.2\n",
            "  Downloading unidic-1.1.0.tar.gz (7.7 kB)\n",
            "Collecting unidic-lite>=1.0.7\n",
            "  Downloading unidic-lite-1.0.8.tar.gz (47.4 MB)\n",
            "\u001b[K     |████████████████████████████████| 47.4 MB 1.2 MB/s \n",
            "\u001b[?25hCollecting fugashi>=1.0\n",
            "  Downloading fugashi-1.2.1-cp38-cp38-manylinux_2_17_x86_64.manylinux2014_x86_64.whl (615 kB)\n",
            "\u001b[K     |████████████████████████████████| 615 kB 72.8 MB/s \n",
            "\u001b[?25hRequirement already satisfied: typing-extensions>=3.7.4.3 in /usr/local/lib/python3.8/dist-packages (from huggingface-hub<1.0,>=0.1.0->transformers[ja]==4.21.1) (4.4.0)\n",
            "Requirement already satisfied: pyparsing!=3.0.5,>=2.0.2 in /usr/local/lib/python3.8/dist-packages (from packaging>=20.0->transformers[ja]==4.21.1) (3.0.9)\n",
            "Requirement already satisfied: wasabi<1.0.0,>=0.6.0 in /usr/local/lib/python3.8/dist-packages (from unidic>=1.0.2->transformers[ja]==4.21.1) (0.10.1)\n",
            "Collecting plac<2.0.0,>=1.1.3\n",
            "  Downloading plac-1.3.5-py2.py3-none-any.whl (22 kB)\n",
            "Requirement already satisfied: urllib3!=1.25.0,!=1.25.1,<1.26,>=1.21.1 in /usr/local/lib/python3.8/dist-packages (from requests->transformers[ja]==4.21.1) (1.24.3)\n",
            "Requirement already satisfied: idna<3,>=2.5 in /usr/local/lib/python3.8/dist-packages (from requests->transformers[ja]==4.21.1) (2.10)\n",
            "Requirement already satisfied: certifi>=2017.4.17 in /usr/local/lib/python3.8/dist-packages (from requests->transformers[ja]==4.21.1) (2022.12.7)\n",
            "Requirement already satisfied: chardet<4,>=3.0.2 in /usr/local/lib/python3.8/dist-packages (from requests->transformers[ja]==4.21.1) (3.0.4)\n",
            "Building wheels for collected packages: ipadic, unidic, unidic-lite\n",
            "  Building wheel for ipadic (setup.py) ... \u001b[?25l\u001b[?25hdone\n",
            "  Created wheel for ipadic: filename=ipadic-1.0.0-py3-none-any.whl size=13556723 sha256=9691b63440aa361dea95077bc7b7e7d7b5fccaf25b6c41a02726ac2a57ed1c03\n",
            "  Stored in directory: /root/.cache/pip/wheels/45/b7/f5/a21e68db846eedcd00d69e37d60bab3f68eb20b1d99cdff652\n",
            "  Building wheel for unidic (setup.py) ... \u001b[?25l\u001b[?25hdone\n",
            "  Created wheel for unidic: filename=unidic-1.1.0-py3-none-any.whl size=7425 sha256=f3ea904b1f7797e767c0faa7d474f88a4e30b90548a7a7429350ba91cb6e761a\n",
            "  Stored in directory: /root/.cache/pip/wheels/22/bc/bb/46aba36d0388f67dfe44bb0edc20a2c964560d4d19ec394e05\n",
            "  Building wheel for unidic-lite (setup.py) ... \u001b[?25l\u001b[?25hdone\n",
            "  Created wheel for unidic-lite: filename=unidic_lite-1.0.8-py3-none-any.whl size=47658837 sha256=1135eebe1b3d4eb7f2b08081ca320e1b6fd0855715827f0fa171a078185d5c14\n",
            "  Stored in directory: /root/.cache/pip/wheels/8c/dd/8f/e21fc192dcd38ae31e1185ce4e66e12df4e811e3d469866e15\n",
            "Successfully built ipadic unidic unidic-lite\n",
            "Installing collected packages: tokenizers, plac, huggingface-hub, unidic-lite, unidic, transformers, ipadic, fugashi\n",
            "Successfully installed fugashi-1.2.1 huggingface-hub-0.11.1 ipadic-1.0.0 plac-1.3.5 tokenizers-0.12.1 transformers-4.21.1 unidic-1.1.0 unidic-lite-1.0.8\n"
          ]
        }
      ]
    },
    {
      "cell_type": "code",
      "metadata": {
        "id": "6wvG4HPQtK2S",
        "colab": {
          "base_uri": "https://localhost:8080/",
          "height": 113,
          "referenced_widgets": [
            "0e7b9fa051944dc4b9082f0c533bfffe",
            "b99dfe85453d4831bfe12293b9b170f6",
            "f7f524f564ad408bb20b268fed87b20c",
            "36c29aca057c4093a841156a01f501e2",
            "cbb7b8fc2aa4412e8d0e5eb12cb60915",
            "0845dc9f1bd7485f874794a9267987e8",
            "fbb96924078f412e8c0a09fef43038b1",
            "546753163ba14877bdf8510c02844b9c",
            "953adf4f7be4404dbde3aea143dedfa6",
            "9fc0a872cf624fecaa151baad9ec731b",
            "7639c84f2220460d83a284f31f6e7477",
            "ee112e564f6246d6902f286342b5e1fc",
            "b69c6052ca8e493caa859879948a23e2",
            "04132c799def4ca99654fc5d90fdbfc5",
            "1edb58d683ef4637b853cb7f929b489a",
            "64a295b8ae864b378127c0b39469d109",
            "417bac7ab37c4665a24f48feae9aafbc",
            "4f2d1858d39d46ac8f860438ae02ebb8",
            "3bd93b80058a4919a430e861ecc89ba5",
            "f95ad2e17a484bc899c7b3add129444d",
            "21ff8fb6fc1448fcb871d65f5cb91a64",
            "de56de3ba5994826a3eb4dfdeda421c5",
            "a4c12c9616604be69c608e98f0dd833a",
            "ca259a68a7c04d9c8e85434d8d378bed",
            "0c07c66204c54a479f48597b9ca9a61d",
            "71066d4ff54a459982de6ada51054f40",
            "4892da76f74e4436afc21f55798b8153",
            "e7b7049224734a2b8cfa7d83a30f47c8",
            "f14ad13b68c24452b6ae687f444e9068",
            "0e1ef5ebe5b8407e8a37e52306fe2f9d",
            "f216e197b64e4f6d9d6095e8902072a8",
            "56a336f749cc4512a5deafd2c2065430",
            "8c6dab8b9cca452a935d2b8a174042d5"
          ]
        },
        "outputId": "7e81cbf5-d1dd-4de2-83d5-d6382b69d86c"
      },
      "source": [
        "from transformers import BertJapaneseTokenizer\n",
        "tokenizer = BertJapaneseTokenizer.from_pretrained(\n",
        "    \"cl-tohoku/bert-base-japanese-whole-word-masking\",\n",
        "    )"
      ],
      "execution_count": null,
      "outputs": [
        {
          "output_type": "display_data",
          "data": {
            "text/plain": [
              "Downloading vocab.txt:   0%|          | 0.00/252k [00:00<?, ?B/s]"
            ],
            "application/vnd.jupyter.widget-view+json": {
              "version_major": 2,
              "version_minor": 0,
              "model_id": "0e7b9fa051944dc4b9082f0c533bfffe"
            }
          },
          "metadata": {}
        },
        {
          "output_type": "display_data",
          "data": {
            "text/plain": [
              "Downloading tokenizer_config.json:   0%|          | 0.00/110 [00:00<?, ?B/s]"
            ],
            "application/vnd.jupyter.widget-view+json": {
              "version_major": 2,
              "version_minor": 0,
              "model_id": "ee112e564f6246d6902f286342b5e1fc"
            }
          },
          "metadata": {}
        },
        {
          "output_type": "display_data",
          "data": {
            "text/plain": [
              "Downloading config.json:   0%|          | 0.00/479 [00:00<?, ?B/s]"
            ],
            "application/vnd.jupyter.widget-view+json": {
              "version_major": 2,
              "version_minor": 0,
              "model_id": "a4c12c9616604be69c608e98f0dd833a"
            }
          },
          "metadata": {}
        }
      ]
    },
    {
      "cell_type": "code",
      "metadata": {
        "colab": {
          "base_uri": "https://localhost:8080/",
          "height": 1000,
          "referenced_widgets": [
            "334b6c1ac99f45d6a4af88d1f428b8c7",
            "c9a5d73b380348ad99c59d6c61159aea",
            "93531d383de741fea33f5d30c482f13f",
            "a900a24103d943fb8870e9e5466502e5",
            "a217f3413d74481dabd840a961c3c3cf",
            "94a5a14ce028423890864b34c738894e",
            "6c80a2a518424ad596c2fc7084969069",
            "a1d12575f8ac408bbb5f14181573c552",
            "7a09fe5c85d94b8786e1d4834a7b3208",
            "9995bda8285d4be8aa77989b97e90cde",
            "d34e6475649541328a3335532724db9f"
          ]
        },
        "id": "pUf4Xq5-Lnkb",
        "outputId": "5b6e45f5-2429-47be-f358-95e5ef24e15b"
      },
      "source": [
        "from transformers import BertForQuestionAnswering\n",
        "model = BertForQuestionAnswering.from_pretrained(\n",
        "    'cl-tohoku/bert-base-japanese-whole-word-masking'\n",
        "    )\n",
        "\n",
        "# 割り当てGPUによっては搭載GPUのメモリが少なくメモリエラーが発生することがあります。\n",
        "# 画面上部のメニューから\n",
        "# ランタイム -> ランタイムのタイプを変更 -> CPU -> 最初のセルを実行\n",
        "# ランタイム -> ランタイムのタイプを変更 -> GPU\n",
        "# を実施することで、別のGPUが割り当てられ解決する場合があります。\n",
        "model.to(device)"
      ],
      "execution_count": null,
      "outputs": [
        {
          "output_type": "display_data",
          "data": {
            "text/plain": [
              "Downloading pytorch_model.bin:   0%|          | 0.00/424M [00:00<?, ?B/s]"
            ],
            "application/vnd.jupyter.widget-view+json": {
              "version_major": 2,
              "version_minor": 0,
              "model_id": "334b6c1ac99f45d6a4af88d1f428b8c7"
            }
          },
          "metadata": {}
        },
        {
          "output_type": "stream",
          "name": "stderr",
          "text": [
            "Some weights of the model checkpoint at cl-tohoku/bert-base-japanese-whole-word-masking were not used when initializing BertForQuestionAnswering: ['cls.predictions.transform.LayerNorm.weight', 'cls.predictions.transform.LayerNorm.bias', 'cls.predictions.bias', 'cls.predictions.transform.dense.weight', 'cls.predictions.transform.dense.bias', 'cls.seq_relationship.weight', 'cls.seq_relationship.bias', 'cls.predictions.decoder.weight']\n",
            "- This IS expected if you are initializing BertForQuestionAnswering from the checkpoint of a model trained on another task or with another architecture (e.g. initializing a BertForSequenceClassification model from a BertForPreTraining model).\n",
            "- This IS NOT expected if you are initializing BertForQuestionAnswering from the checkpoint of a model that you expect to be exactly identical (initializing a BertForSequenceClassification model from a BertForSequenceClassification model).\n",
            "Some weights of BertForQuestionAnswering were not initialized from the model checkpoint at cl-tohoku/bert-base-japanese-whole-word-masking and are newly initialized: ['qa_outputs.bias', 'qa_outputs.weight']\n",
            "You should probably TRAIN this model on a down-stream task to be able to use it for predictions and inference.\n"
          ]
        },
        {
          "output_type": "execute_result",
          "data": {
            "text/plain": [
              "BertForQuestionAnswering(\n",
              "  (bert): BertModel(\n",
              "    (embeddings): BertEmbeddings(\n",
              "      (word_embeddings): Embedding(32000, 768, padding_idx=0)\n",
              "      (position_embeddings): Embedding(512, 768)\n",
              "      (token_type_embeddings): Embedding(2, 768)\n",
              "      (LayerNorm): LayerNorm((768,), eps=1e-12, elementwise_affine=True)\n",
              "      (dropout): Dropout(p=0.1, inplace=False)\n",
              "    )\n",
              "    (encoder): BertEncoder(\n",
              "      (layer): ModuleList(\n",
              "        (0): BertLayer(\n",
              "          (attention): BertAttention(\n",
              "            (self): BertSelfAttention(\n",
              "              (query): Linear(in_features=768, out_features=768, bias=True)\n",
              "              (key): Linear(in_features=768, out_features=768, bias=True)\n",
              "              (value): Linear(in_features=768, out_features=768, bias=True)\n",
              "              (dropout): Dropout(p=0.1, inplace=False)\n",
              "            )\n",
              "            (output): BertSelfOutput(\n",
              "              (dense): Linear(in_features=768, out_features=768, bias=True)\n",
              "              (LayerNorm): LayerNorm((768,), eps=1e-12, elementwise_affine=True)\n",
              "              (dropout): Dropout(p=0.1, inplace=False)\n",
              "            )\n",
              "          )\n",
              "          (intermediate): BertIntermediate(\n",
              "            (dense): Linear(in_features=768, out_features=3072, bias=True)\n",
              "            (intermediate_act_fn): GELUActivation()\n",
              "          )\n",
              "          (output): BertOutput(\n",
              "            (dense): Linear(in_features=3072, out_features=768, bias=True)\n",
              "            (LayerNorm): LayerNorm((768,), eps=1e-12, elementwise_affine=True)\n",
              "            (dropout): Dropout(p=0.1, inplace=False)\n",
              "          )\n",
              "        )\n",
              "        (1): BertLayer(\n",
              "          (attention): BertAttention(\n",
              "            (self): BertSelfAttention(\n",
              "              (query): Linear(in_features=768, out_features=768, bias=True)\n",
              "              (key): Linear(in_features=768, out_features=768, bias=True)\n",
              "              (value): Linear(in_features=768, out_features=768, bias=True)\n",
              "              (dropout): Dropout(p=0.1, inplace=False)\n",
              "            )\n",
              "            (output): BertSelfOutput(\n",
              "              (dense): Linear(in_features=768, out_features=768, bias=True)\n",
              "              (LayerNorm): LayerNorm((768,), eps=1e-12, elementwise_affine=True)\n",
              "              (dropout): Dropout(p=0.1, inplace=False)\n",
              "            )\n",
              "          )\n",
              "          (intermediate): BertIntermediate(\n",
              "            (dense): Linear(in_features=768, out_features=3072, bias=True)\n",
              "            (intermediate_act_fn): GELUActivation()\n",
              "          )\n",
              "          (output): BertOutput(\n",
              "            (dense): Linear(in_features=3072, out_features=768, bias=True)\n",
              "            (LayerNorm): LayerNorm((768,), eps=1e-12, elementwise_affine=True)\n",
              "            (dropout): Dropout(p=0.1, inplace=False)\n",
              "          )\n",
              "        )\n",
              "        (2): BertLayer(\n",
              "          (attention): BertAttention(\n",
              "            (self): BertSelfAttention(\n",
              "              (query): Linear(in_features=768, out_features=768, bias=True)\n",
              "              (key): Linear(in_features=768, out_features=768, bias=True)\n",
              "              (value): Linear(in_features=768, out_features=768, bias=True)\n",
              "              (dropout): Dropout(p=0.1, inplace=False)\n",
              "            )\n",
              "            (output): BertSelfOutput(\n",
              "              (dense): Linear(in_features=768, out_features=768, bias=True)\n",
              "              (LayerNorm): LayerNorm((768,), eps=1e-12, elementwise_affine=True)\n",
              "              (dropout): Dropout(p=0.1, inplace=False)\n",
              "            )\n",
              "          )\n",
              "          (intermediate): BertIntermediate(\n",
              "            (dense): Linear(in_features=768, out_features=3072, bias=True)\n",
              "            (intermediate_act_fn): GELUActivation()\n",
              "          )\n",
              "          (output): BertOutput(\n",
              "            (dense): Linear(in_features=3072, out_features=768, bias=True)\n",
              "            (LayerNorm): LayerNorm((768,), eps=1e-12, elementwise_affine=True)\n",
              "            (dropout): Dropout(p=0.1, inplace=False)\n",
              "          )\n",
              "        )\n",
              "        (3): BertLayer(\n",
              "          (attention): BertAttention(\n",
              "            (self): BertSelfAttention(\n",
              "              (query): Linear(in_features=768, out_features=768, bias=True)\n",
              "              (key): Linear(in_features=768, out_features=768, bias=True)\n",
              "              (value): Linear(in_features=768, out_features=768, bias=True)\n",
              "              (dropout): Dropout(p=0.1, inplace=False)\n",
              "            )\n",
              "            (output): BertSelfOutput(\n",
              "              (dense): Linear(in_features=768, out_features=768, bias=True)\n",
              "              (LayerNorm): LayerNorm((768,), eps=1e-12, elementwise_affine=True)\n",
              "              (dropout): Dropout(p=0.1, inplace=False)\n",
              "            )\n",
              "          )\n",
              "          (intermediate): BertIntermediate(\n",
              "            (dense): Linear(in_features=768, out_features=3072, bias=True)\n",
              "            (intermediate_act_fn): GELUActivation()\n",
              "          )\n",
              "          (output): BertOutput(\n",
              "            (dense): Linear(in_features=3072, out_features=768, bias=True)\n",
              "            (LayerNorm): LayerNorm((768,), eps=1e-12, elementwise_affine=True)\n",
              "            (dropout): Dropout(p=0.1, inplace=False)\n",
              "          )\n",
              "        )\n",
              "        (4): BertLayer(\n",
              "          (attention): BertAttention(\n",
              "            (self): BertSelfAttention(\n",
              "              (query): Linear(in_features=768, out_features=768, bias=True)\n",
              "              (key): Linear(in_features=768, out_features=768, bias=True)\n",
              "              (value): Linear(in_features=768, out_features=768, bias=True)\n",
              "              (dropout): Dropout(p=0.1, inplace=False)\n",
              "            )\n",
              "            (output): BertSelfOutput(\n",
              "              (dense): Linear(in_features=768, out_features=768, bias=True)\n",
              "              (LayerNorm): LayerNorm((768,), eps=1e-12, elementwise_affine=True)\n",
              "              (dropout): Dropout(p=0.1, inplace=False)\n",
              "            )\n",
              "          )\n",
              "          (intermediate): BertIntermediate(\n",
              "            (dense): Linear(in_features=768, out_features=3072, bias=True)\n",
              "            (intermediate_act_fn): GELUActivation()\n",
              "          )\n",
              "          (output): BertOutput(\n",
              "            (dense): Linear(in_features=3072, out_features=768, bias=True)\n",
              "            (LayerNorm): LayerNorm((768,), eps=1e-12, elementwise_affine=True)\n",
              "            (dropout): Dropout(p=0.1, inplace=False)\n",
              "          )\n",
              "        )\n",
              "        (5): BertLayer(\n",
              "          (attention): BertAttention(\n",
              "            (self): BertSelfAttention(\n",
              "              (query): Linear(in_features=768, out_features=768, bias=True)\n",
              "              (key): Linear(in_features=768, out_features=768, bias=True)\n",
              "              (value): Linear(in_features=768, out_features=768, bias=True)\n",
              "              (dropout): Dropout(p=0.1, inplace=False)\n",
              "            )\n",
              "            (output): BertSelfOutput(\n",
              "              (dense): Linear(in_features=768, out_features=768, bias=True)\n",
              "              (LayerNorm): LayerNorm((768,), eps=1e-12, elementwise_affine=True)\n",
              "              (dropout): Dropout(p=0.1, inplace=False)\n",
              "            )\n",
              "          )\n",
              "          (intermediate): BertIntermediate(\n",
              "            (dense): Linear(in_features=768, out_features=3072, bias=True)\n",
              "            (intermediate_act_fn): GELUActivation()\n",
              "          )\n",
              "          (output): BertOutput(\n",
              "            (dense): Linear(in_features=3072, out_features=768, bias=True)\n",
              "            (LayerNorm): LayerNorm((768,), eps=1e-12, elementwise_affine=True)\n",
              "            (dropout): Dropout(p=0.1, inplace=False)\n",
              "          )\n",
              "        )\n",
              "        (6): BertLayer(\n",
              "          (attention): BertAttention(\n",
              "            (self): BertSelfAttention(\n",
              "              (query): Linear(in_features=768, out_features=768, bias=True)\n",
              "              (key): Linear(in_features=768, out_features=768, bias=True)\n",
              "              (value): Linear(in_features=768, out_features=768, bias=True)\n",
              "              (dropout): Dropout(p=0.1, inplace=False)\n",
              "            )\n",
              "            (output): BertSelfOutput(\n",
              "              (dense): Linear(in_features=768, out_features=768, bias=True)\n",
              "              (LayerNorm): LayerNorm((768,), eps=1e-12, elementwise_affine=True)\n",
              "              (dropout): Dropout(p=0.1, inplace=False)\n",
              "            )\n",
              "          )\n",
              "          (intermediate): BertIntermediate(\n",
              "            (dense): Linear(in_features=768, out_features=3072, bias=True)\n",
              "            (intermediate_act_fn): GELUActivation()\n",
              "          )\n",
              "          (output): BertOutput(\n",
              "            (dense): Linear(in_features=3072, out_features=768, bias=True)\n",
              "            (LayerNorm): LayerNorm((768,), eps=1e-12, elementwise_affine=True)\n",
              "            (dropout): Dropout(p=0.1, inplace=False)\n",
              "          )\n",
              "        )\n",
              "        (7): BertLayer(\n",
              "          (attention): BertAttention(\n",
              "            (self): BertSelfAttention(\n",
              "              (query): Linear(in_features=768, out_features=768, bias=True)\n",
              "              (key): Linear(in_features=768, out_features=768, bias=True)\n",
              "              (value): Linear(in_features=768, out_features=768, bias=True)\n",
              "              (dropout): Dropout(p=0.1, inplace=False)\n",
              "            )\n",
              "            (output): BertSelfOutput(\n",
              "              (dense): Linear(in_features=768, out_features=768, bias=True)\n",
              "              (LayerNorm): LayerNorm((768,), eps=1e-12, elementwise_affine=True)\n",
              "              (dropout): Dropout(p=0.1, inplace=False)\n",
              "            )\n",
              "          )\n",
              "          (intermediate): BertIntermediate(\n",
              "            (dense): Linear(in_features=768, out_features=3072, bias=True)\n",
              "            (intermediate_act_fn): GELUActivation()\n",
              "          )\n",
              "          (output): BertOutput(\n",
              "            (dense): Linear(in_features=3072, out_features=768, bias=True)\n",
              "            (LayerNorm): LayerNorm((768,), eps=1e-12, elementwise_affine=True)\n",
              "            (dropout): Dropout(p=0.1, inplace=False)\n",
              "          )\n",
              "        )\n",
              "        (8): BertLayer(\n",
              "          (attention): BertAttention(\n",
              "            (self): BertSelfAttention(\n",
              "              (query): Linear(in_features=768, out_features=768, bias=True)\n",
              "              (key): Linear(in_features=768, out_features=768, bias=True)\n",
              "              (value): Linear(in_features=768, out_features=768, bias=True)\n",
              "              (dropout): Dropout(p=0.1, inplace=False)\n",
              "            )\n",
              "            (output): BertSelfOutput(\n",
              "              (dense): Linear(in_features=768, out_features=768, bias=True)\n",
              "              (LayerNorm): LayerNorm((768,), eps=1e-12, elementwise_affine=True)\n",
              "              (dropout): Dropout(p=0.1, inplace=False)\n",
              "            )\n",
              "          )\n",
              "          (intermediate): BertIntermediate(\n",
              "            (dense): Linear(in_features=768, out_features=3072, bias=True)\n",
              "            (intermediate_act_fn): GELUActivation()\n",
              "          )\n",
              "          (output): BertOutput(\n",
              "            (dense): Linear(in_features=3072, out_features=768, bias=True)\n",
              "            (LayerNorm): LayerNorm((768,), eps=1e-12, elementwise_affine=True)\n",
              "            (dropout): Dropout(p=0.1, inplace=False)\n",
              "          )\n",
              "        )\n",
              "        (9): BertLayer(\n",
              "          (attention): BertAttention(\n",
              "            (self): BertSelfAttention(\n",
              "              (query): Linear(in_features=768, out_features=768, bias=True)\n",
              "              (key): Linear(in_features=768, out_features=768, bias=True)\n",
              "              (value): Linear(in_features=768, out_features=768, bias=True)\n",
              "              (dropout): Dropout(p=0.1, inplace=False)\n",
              "            )\n",
              "            (output): BertSelfOutput(\n",
              "              (dense): Linear(in_features=768, out_features=768, bias=True)\n",
              "              (LayerNorm): LayerNorm((768,), eps=1e-12, elementwise_affine=True)\n",
              "              (dropout): Dropout(p=0.1, inplace=False)\n",
              "            )\n",
              "          )\n",
              "          (intermediate): BertIntermediate(\n",
              "            (dense): Linear(in_features=768, out_features=3072, bias=True)\n",
              "            (intermediate_act_fn): GELUActivation()\n",
              "          )\n",
              "          (output): BertOutput(\n",
              "            (dense): Linear(in_features=3072, out_features=768, bias=True)\n",
              "            (LayerNorm): LayerNorm((768,), eps=1e-12, elementwise_affine=True)\n",
              "            (dropout): Dropout(p=0.1, inplace=False)\n",
              "          )\n",
              "        )\n",
              "        (10): BertLayer(\n",
              "          (attention): BertAttention(\n",
              "            (self): BertSelfAttention(\n",
              "              (query): Linear(in_features=768, out_features=768, bias=True)\n",
              "              (key): Linear(in_features=768, out_features=768, bias=True)\n",
              "              (value): Linear(in_features=768, out_features=768, bias=True)\n",
              "              (dropout): Dropout(p=0.1, inplace=False)\n",
              "            )\n",
              "            (output): BertSelfOutput(\n",
              "              (dense): Linear(in_features=768, out_features=768, bias=True)\n",
              "              (LayerNorm): LayerNorm((768,), eps=1e-12, elementwise_affine=True)\n",
              "              (dropout): Dropout(p=0.1, inplace=False)\n",
              "            )\n",
              "          )\n",
              "          (intermediate): BertIntermediate(\n",
              "            (dense): Linear(in_features=768, out_features=3072, bias=True)\n",
              "            (intermediate_act_fn): GELUActivation()\n",
              "          )\n",
              "          (output): BertOutput(\n",
              "            (dense): Linear(in_features=3072, out_features=768, bias=True)\n",
              "            (LayerNorm): LayerNorm((768,), eps=1e-12, elementwise_affine=True)\n",
              "            (dropout): Dropout(p=0.1, inplace=False)\n",
              "          )\n",
              "        )\n",
              "        (11): BertLayer(\n",
              "          (attention): BertAttention(\n",
              "            (self): BertSelfAttention(\n",
              "              (query): Linear(in_features=768, out_features=768, bias=True)\n",
              "              (key): Linear(in_features=768, out_features=768, bias=True)\n",
              "              (value): Linear(in_features=768, out_features=768, bias=True)\n",
              "              (dropout): Dropout(p=0.1, inplace=False)\n",
              "            )\n",
              "            (output): BertSelfOutput(\n",
              "              (dense): Linear(in_features=768, out_features=768, bias=True)\n",
              "              (LayerNorm): LayerNorm((768,), eps=1e-12, elementwise_affine=True)\n",
              "              (dropout): Dropout(p=0.1, inplace=False)\n",
              "            )\n",
              "          )\n",
              "          (intermediate): BertIntermediate(\n",
              "            (dense): Linear(in_features=768, out_features=3072, bias=True)\n",
              "            (intermediate_act_fn): GELUActivation()\n",
              "          )\n",
              "          (output): BertOutput(\n",
              "            (dense): Linear(in_features=3072, out_features=768, bias=True)\n",
              "            (LayerNorm): LayerNorm((768,), eps=1e-12, elementwise_affine=True)\n",
              "            (dropout): Dropout(p=0.1, inplace=False)\n",
              "          )\n",
              "        )\n",
              "      )\n",
              "    )\n",
              "  )\n",
              "  (qa_outputs): Linear(in_features=768, out_features=2, bias=True)\n",
              ")"
            ]
          },
          "metadata": {},
          "execution_count": 5
        }
      ]
    },
    {
      "cell_type": "markdown",
      "source": [
        "## DDQAデータセットでの学習"
      ],
      "metadata": {
        "id": "T5WA4vegmHfs"
      }
    },
    {
      "cell_type": "markdown",
      "metadata": {
        "id": "uoJz-l6srrEU"
      },
      "source": [
        "データセットのダウンロード"
      ]
    },
    {
      "cell_type": "code",
      "metadata": {
        "id": "WA3JtzDsdOJM"
      },
      "source": [
        "!mkdir -p /content/drive/MyDrive/bert/5_3_ddqa"
      ],
      "execution_count": null,
      "outputs": []
    },
    {
      "cell_type": "code",
      "metadata": {
        "id": "sxBBb7cCdSN7",
        "colab": {
          "base_uri": "https://localhost:8080/"
        },
        "outputId": "8f483913-4205-4825-875c-60d2257a2f6d"
      },
      "source": [
        "cd /content/drive/MyDrive/bert/5_3_ddqa"
      ],
      "execution_count": null,
      "outputs": [
        {
          "output_type": "stream",
          "name": "stdout",
          "text": [
            "/content/drive/MyDrive/bert/5_3_ddqa\n"
          ]
        }
      ]
    },
    {
      "cell_type": "markdown",
      "source": [
        "本検証に用いるデータセットは利用条件に同意して手動でダウンロードする必要があります。  \n",
        "下記の「ダウンロードページ」から`DDQA-1.0.tar.gz`をダウンロードして、上で作成したフォルダにアップロードしてください。\n",
        "https://nlp.ist.i.kyoto-u.ac.jp/?Driving+domain+QA+datasets"
      ],
      "metadata": {
        "id": "S0AxlAt3Ic9B"
      }
    },
    {
      "cell_type": "code",
      "metadata": {
        "id": "Vuc3bZbkdUVL",
        "colab": {
          "base_uri": "https://localhost:8080/"
        },
        "outputId": "1f415c51-5c7b-4f0c-9f31-0a5c731a0091"
      },
      "source": [
        "!tar -zxvf DDQA-1.0.tar.gz"
      ],
      "execution_count": null,
      "outputs": [
        {
          "output_type": "stream",
          "name": "stdout",
          "text": [
            "DDQA-1.0/\n",
            "DDQA-1.0/RC-QA/\n",
            "DDQA-1.0/PAS-QA-NOM/\n",
            "DDQA-1.0/PAS-QA-ACC/\n",
            "DDQA-1.0/PAS-QA-DAT/\n",
            "DDQA-1.0/README_en.txt\n",
            "DDQA-1.0/README_ja.txt\n",
            "DDQA-1.0/PAS-QA-DAT/DDQA-1.0_PAS-QA-DAT_train.json\n",
            "DDQA-1.0/PAS-QA-DAT/DDQA-1.0_PAS-QA-DAT_dev.json\n",
            "DDQA-1.0/PAS-QA-DAT/DDQA-1.0_PAS-QA-DAT_test.json\n",
            "DDQA-1.0/PAS-QA-ACC/DDQA-1.0_PAS-QA-ACC_train.json\n",
            "DDQA-1.0/PAS-QA-ACC/DDQA-1.0_PAS-QA-ACC_dev.json\n",
            "DDQA-1.0/PAS-QA-ACC/DDQA-1.0_PAS-QA-ACC_test.json\n",
            "DDQA-1.0/PAS-QA-NOM/DDQA-1.0_PAS-QA-NOM_dev.json\n",
            "DDQA-1.0/PAS-QA-NOM/DDQA-1.0_PAS-QA-NOM_test.json\n",
            "DDQA-1.0/PAS-QA-NOM/DDQA-1.0_PAS-QA-NOM_train.json\n",
            "DDQA-1.0/RC-QA/DDQA-1.0_RC-QA_dev.json\n",
            "DDQA-1.0/RC-QA/DDQA-1.0_RC-QA_test.json\n",
            "DDQA-1.0/RC-QA/DDQA-1.0_RC-QA_train.json\n"
          ]
        }
      ]
    },
    {
      "cell_type": "markdown",
      "metadata": {
        "id": "hb5U1t3ERQZp"
      },
      "source": [
        "## データセットの前処理"
      ]
    },
    {
      "cell_type": "code",
      "metadata": {
        "id": "ne4AGZJOQ2om",
        "colab": {
          "base_uri": "https://localhost:8080/"
        },
        "outputId": "5f5a067d-723c-4149-b6cb-1541eb6f8ffe"
      },
      "source": [
        "import os, json\n",
        "dataset_dir = \"DDQA-1.0/RC-QA\"\n",
        "list_file = [\"DDQA-1.0_RC-QA_train.json\", \"DDQA-1.0_RC-QA_dev.json\", \"DDQA-1.0_RC-QA_test.json\"]\n",
        "list_dataset = []\n",
        "\n",
        "for fil in list_file:\n",
        "  with open(os.path.join(dataset_dir, fil)) as f:\n",
        "    dataset = json.load(f)\n",
        "    list_dataset.append(dataset['data'][0]['paragraphs'])\n",
        "    print(len(dataset['data'][0]['paragraphs']))\n",
        "\n",
        "list_train, list_valid, list_test = list_dataset"
      ],
      "execution_count": null,
      "outputs": [
        {
          "output_type": "stream",
          "name": "stdout",
          "text": [
            "8968\n",
            "1053\n",
            "1042\n"
          ]
        }
      ]
    },
    {
      "cell_type": "code",
      "source": [
        "# cl-tohoku/bert-base-japanese-whole-word-maskingのモデルは最大512トークンまで対応しているが、\n",
        "# 学習時のGPUメモリ消費を抑えるため256としている\n",
        "n_token = 256"
      ],
      "metadata": {
        "id": "eR-jzi-Hgzcm"
      },
      "execution_count": null,
      "outputs": []
    },
    {
      "cell_type": "code",
      "source": [
        "def is_in_span(idx, span):\n",
        "  return span[0] <= idx and idx < span[1]"
      ],
      "metadata": {
        "id": "7neg928FD-D-"
      },
      "execution_count": null,
      "outputs": []
    },
    {
      "cell_type": "code",
      "source": [
        "from collections import defaultdict\n",
        "\n",
        "def preprocess(examples, is_test=False):\n",
        "  dataset = defaultdict(list)\n",
        "  all_starts, all_ends = [], []\n",
        "\n",
        "  for example in examples:\n",
        "    for qa in example[\"qas\"]:\n",
        "      context, question, answers = example[\"context\"], qa[\"question\"], qa[\"answers\"]\n",
        "      starts, ends = [], []\n",
        "\n",
        "      for i,answer in enumerate(answers):\n",
        "        encode = tokenizer(question, context)[\"input_ids\"]\n",
        "        tokenized = tokenizer.decode(encode)\n",
        "\n",
        "        decode_str = tokenized.replace(\" \", \"\").replace(\"[CLS]\", \"\").replace(\"[PAD]\", \"\").replace(\"##\", \"\")\n",
        "\n",
        "        # decode後のコンテクストの開始位置（質問文長）\n",
        "        len_question = decode_str.find('[SEP]')\n",
        "\n",
        "        cnt = 0\n",
        "        start_position = 0\n",
        "        for i_t,e in enumerate(encode):\n",
        "          tok = tokenizer.decode(e).replace(\" \", \"\")\n",
        "\n",
        "          if tok == \"[CLS]\" or tok == \"[SEP]\" or tok == \"[PAD]\":\n",
        "            continue\n",
        "          else:\n",
        "            if cnt <= len_question + answer[\"answer_start\"]:\n",
        "              start_position = i_t\n",
        "            if cnt <= len_question + answer[\"answer_start\"] + len(answer[\"text\"]):\n",
        "              end_position = i_t\n",
        "\n",
        "          cnt += len(tok.replace(\"##\", \"\"))\n",
        "\n",
        "        starts.append(start_position)\n",
        "        ends.append(end_position)\n",
        "\n",
        "        if (not is_test) or (i == 0):\n",
        "          dataset[\"contexts\"].append(context)\n",
        "          dataset[\"questions\"].append(question)\n",
        "          dataset[\"input_ids\"].append(encode)\n",
        "          dataset[\"tokenized\"].append(tokenized)\n",
        "\n",
        "          dataset[\"start_positions\"].append(start_position)\n",
        "          dataset[\"end_positions\"].append(end_position)\n",
        "\n",
        "      all_starts.append(starts)\n",
        "      all_ends.append(ends)\n",
        "  all_answers = (all_starts, all_ends)\n",
        "  return dataset, all_answers"
      ],
      "metadata": {
        "id": "l1DJ9ulTuN3y"
      },
      "execution_count": null,
      "outputs": []
    },
    {
      "cell_type": "code",
      "source": [
        "# preprocessの例\n",
        "ex1 = {\"context\":\"警察にもお願いがあります。高速道は飛ばすところであります。それよりも危険運転を厳しく取り締まってもらいたい。栃木県警、埼玉県警、福島県警、何のためにヘリコプターを装備しているのですか。\",\n",
        "      \"qas\":[{\"id\":\"56958372310021_00\",\n",
        "              \"question\":\"誰にお願いがあるか？\",\n",
        "              \"answers\":[{\"text\":\"警察\", \"answer_start\":0}],\n",
        "              \"is_impossible\":False}]}\n",
        "print(preprocess([ex1]))"
      ],
      "metadata": {
        "id": "Cm1Qt3whSIEM",
        "colab": {
          "base_uri": "https://localhost:8080/"
        },
        "outputId": "91b9c15a-6601-48fb-bb1d-9d6f0ca1fce8"
      },
      "execution_count": null,
      "outputs": [
        {
          "output_type": "stream",
          "name": "stdout",
          "text": [
            "(defaultdict(<class 'list'>, {'contexts': ['警察にもお願いがあります。高速道は飛ばすところであります。それよりも危険運転を厳しく取り締まってもらいたい。栃木県警、埼玉県警、福島県警、何のためにヘリコプターを装備しているのですか。'], 'questions': ['誰にお願いがあるか？'], 'input_ids': [[2, 3654, 7, 24050, 14, 31, 29, 2935, 3, 1573, 7, 28, 24050, 14, 130, 2610, 8, 1942, 405, 9, 787, 12222, 1134, 12, 130, 2610, 8, 218, 221, 28, 3164, 1498, 11, 9047, 19657, 628, 16, 11633, 1549, 8, 5857, 16582, 6, 3205, 16582, 6, 3191, 16582, 6, 1037, 5, 82, 7, 8213, 11, 2124, 15, 16, 33, 5, 2992, 29, 8, 3]], 'tokenized': ['[CLS] 誰 に お願い が ある か? [SEP] 警察 に も お願い が あり ます 。 高速 道 は 飛ばす ところ で あり ます 。 それ より も 危険 運転 を 厳しく 取り締まっ て もらい たい 。 栃木 県警 、 埼玉 県警 、 福島 県警 、 何 の ため に ヘリコプター を 装備 し て いる の です か 。 [SEP]'], 'start_positions': [9], 'end_positions': [10]}), ([[9]], [[10]]))\n"
          ]
        }
      ]
    },
    {
      "cell_type": "code",
      "source": [
        "for k,v in ex1.items():\n",
        "  print(k,v)\n",
        "print('---')\n",
        "for k,v in preprocess([ex1])[0].items():\n",
        "  print(k,v)"
      ],
      "metadata": {
        "colab": {
          "base_uri": "https://localhost:8080/"
        },
        "id": "2QJhGwf4GW8m",
        "outputId": "b4e0f5ec-318e-4a06-8100-11bbdf264745"
      },
      "execution_count": null,
      "outputs": [
        {
          "output_type": "stream",
          "name": "stdout",
          "text": [
            "context 警察にもお願いがあります。高速道は飛ばすところであります。それよりも危険運転を厳しく取り締まってもらいたい。栃木県警、埼玉県警、福島県警、何のためにヘリコプターを装備しているのですか。\n",
            "qas [{'id': '56958372310021_00', 'question': '誰にお願いがあるか？', 'answers': [{'text': '警察', 'answer_start': 0}], 'is_impossible': False}]\n",
            "---\n",
            "contexts ['警察にもお願いがあります。高速道は飛ばすところであります。それよりも危険運転を厳しく取り締まってもらいたい。栃木県警、埼玉県警、福島県警、何のためにヘリコプターを装備しているのですか。']\n",
            "questions ['誰にお願いがあるか？']\n",
            "input_ids [[2, 3654, 7, 24050, 14, 31, 29, 2935, 3, 1573, 7, 28, 24050, 14, 130, 2610, 8, 1942, 405, 9, 787, 12222, 1134, 12, 130, 2610, 8, 218, 221, 28, 3164, 1498, 11, 9047, 19657, 628, 16, 11633, 1549, 8, 5857, 16582, 6, 3205, 16582, 6, 3191, 16582, 6, 1037, 5, 82, 7, 8213, 11, 2124, 15, 16, 33, 5, 2992, 29, 8, 3]]\n",
            "tokenized ['[CLS] 誰 に お願い が ある か? [SEP] 警察 に も お願い が あり ます 。 高速 道 は 飛ばす ところ で あり ます 。 それ より も 危険 運転 を 厳しく 取り締まっ て もらい たい 。 栃木 県警 、 埼玉 県警 、 福島 県警 、 何 の ため に ヘリコプター を 装備 し て いる の です か 。 [SEP]']\n",
            "start_positions [9]\n",
            "end_positions [10]\n"
          ]
        }
      ]
    },
    {
      "cell_type": "code",
      "source": [
        "# preprocessの例2\n",
        "ex2 = {\"context\":\"またまた小西タンの九州スイッチのＣＭに出てくる某県の話。以下は友達の友達が体験した話。指○スカイラインという有料道路がある。昼間は有料だが夜１０時なると無料になる道路だ。\",\n",
        "       \"qas\":[{\"id\":\"57017617480007_00\",\n",
        "               \"question\":\"どの道路が昼間は有料だが夜１０時なると無料になりますか？\",\n",
        "               \"answers\":[{\"text\":\"指○スカイライン\", \"answer_start\":43},\n",
        "                          {\"text\":\"指○スカイラインという有料道路\", \"answer_start\":43}],\n",
        "               \"is_impossible\":False}]}\n",
        "print(preprocess([ex2]))"
      ],
      "metadata": {
        "id": "bBLG9HKxY5o3",
        "colab": {
          "base_uri": "https://localhost:8080/"
        },
        "outputId": "80e7088e-a6b2-44cf-df5d-dd7a13dca875"
      },
      "execution_count": null,
      "outputs": [
        {
          "output_type": "stream",
          "name": "stdout",
          "text": [
            "(defaultdict(<class 'list'>, {'contexts': ['またまた小西タンの九州スイッチのＣＭに出てくる某県の話。以下は友達の友達が体験した話。指○スカイラインという有料道路がある。昼間は有料だが夜１０時なると無料になる道路だ。', 'またまた小西タンの九州スイッチのＣＭに出てくる某県の話。以下は友達の友達が体験した話。指○スカイラインという有料道路がある。昼間は有料だが夜１０時なると無料になる道路だ。'], 'questions': ['どの道路が昼間は有料だが夜１０時なると無料になりますか？', 'どの道路が昼間は有料だが夜１０時なると無料になりますか？'], 'input_ids': [[2, 3219, 1305, 14, 11995, 9, 7700, 75, 14, 1563, 121, 72, 139, 13, 4691, 7, 297, 2610, 29, 2935, 3, 106, 28491, 28447, 19523, 2797, 5, 2446, 9017, 5, 2968, 7, 71, 16, 2501, 20201, 149, 5, 735, 8, 562, 9, 12455, 5, 12455, 14, 4946, 15, 10, 735, 8, 254, 4478, 23354, 140, 7700, 1305, 14, 31, 8, 11995, 9, 7700, 75, 14, 1563, 121, 72, 139, 13, 4691, 7, 139, 1305, 75, 8, 3], [2, 3219, 1305, 14, 11995, 9, 7700, 75, 14, 1563, 121, 72, 139, 13, 4691, 7, 297, 2610, 29, 2935, 3, 106, 28491, 28447, 19523, 2797, 5, 2446, 9017, 5, 2968, 7, 71, 16, 2501, 20201, 149, 5, 735, 8, 562, 9, 12455, 5, 12455, 14, 4946, 15, 10, 735, 8, 254, 4478, 23354, 140, 7700, 1305, 14, 31, 8, 11995, 9, 7700, 75, 14, 1563, 121, 72, 139, 13, 4691, 7, 139, 1305, 75, 8, 3]], 'tokenized': ['[CLS] どの 道路 が 昼間 は 有料 だ が 夜 10 時 なる と 無料 に なり ます か? [SEP] またまた 小西 タン の 九州 スイッチ の CM に 出 て くる 某 県 の 話 。 以下 は 友達 の 友達 が 体験 し た 話 。 指 ○ スカイライン という 有料 道路 が ある 。 昼間 は 有料 だ が 夜 10 時 なる と 無料 に なる 道路 だ 。 [SEP]', '[CLS] どの 道路 が 昼間 は 有料 だ が 夜 10 時 なる と 無料 に なり ます か? [SEP] またまた 小西 タン の 九州 スイッチ の CM に 出 て くる 某 県 の 話 。 以下 は 友達 の 友達 が 体験 し た 話 。 指 ○ スカイライン という 有料 道路 が ある 。 昼間 は 有料 だ が 夜 10 時 なる と 無料 に なる 道路 だ 。 [SEP]'], 'start_positions': [51, 51], 'end_positions': [54, 57]}), ([[51, 51]], [[54, 57]]))\n"
          ]
        }
      ]
    },
    {
      "cell_type": "code",
      "source": [
        "for k,v in ex2.items():\n",
        "  print(k,v)\n",
        "print('---')\n",
        "for k,v in preprocess([ex2])[0].items():\n",
        "  print(k,v)"
      ],
      "metadata": {
        "id": "yHqyovBTThyS",
        "colab": {
          "base_uri": "https://localhost:8080/"
        },
        "outputId": "9ae20d73-4397-420a-e095-1540af365a4a"
      },
      "execution_count": null,
      "outputs": [
        {
          "output_type": "stream",
          "name": "stdout",
          "text": [
            "context またまた小西タンの九州スイッチのＣＭに出てくる某県の話。以下は友達の友達が体験した話。指○スカイラインという有料道路がある。昼間は有料だが夜１０時なると無料になる道路だ。\n",
            "qas [{'id': '57017617480007_00', 'question': 'どの道路が昼間は有料だが夜１０時なると無料になりますか？', 'answers': [{'text': '指○スカイライン', 'answer_start': 43}, {'text': '指○スカイラインという有料道路', 'answer_start': 43}], 'is_impossible': False}]\n",
            "---\n",
            "contexts ['またまた小西タンの九州スイッチのＣＭに出てくる某県の話。以下は友達の友達が体験した話。指○スカイラインという有料道路がある。昼間は有料だが夜１０時なると無料になる道路だ。', 'またまた小西タンの九州スイッチのＣＭに出てくる某県の話。以下は友達の友達が体験した話。指○スカイラインという有料道路がある。昼間は有料だが夜１０時なると無料になる道路だ。']\n",
            "questions ['どの道路が昼間は有料だが夜１０時なると無料になりますか？', 'どの道路が昼間は有料だが夜１０時なると無料になりますか？']\n",
            "input_ids [[2, 3219, 1305, 14, 11995, 9, 7700, 75, 14, 1563, 121, 72, 139, 13, 4691, 7, 297, 2610, 29, 2935, 3, 106, 28491, 28447, 19523, 2797, 5, 2446, 9017, 5, 2968, 7, 71, 16, 2501, 20201, 149, 5, 735, 8, 562, 9, 12455, 5, 12455, 14, 4946, 15, 10, 735, 8, 254, 4478, 23354, 140, 7700, 1305, 14, 31, 8, 11995, 9, 7700, 75, 14, 1563, 121, 72, 139, 13, 4691, 7, 139, 1305, 75, 8, 3], [2, 3219, 1305, 14, 11995, 9, 7700, 75, 14, 1563, 121, 72, 139, 13, 4691, 7, 297, 2610, 29, 2935, 3, 106, 28491, 28447, 19523, 2797, 5, 2446, 9017, 5, 2968, 7, 71, 16, 2501, 20201, 149, 5, 735, 8, 562, 9, 12455, 5, 12455, 14, 4946, 15, 10, 735, 8, 254, 4478, 23354, 140, 7700, 1305, 14, 31, 8, 11995, 9, 7700, 75, 14, 1563, 121, 72, 139, 13, 4691, 7, 139, 1305, 75, 8, 3]]\n",
            "tokenized ['[CLS] どの 道路 が 昼間 は 有料 だ が 夜 10 時 なる と 無料 に なり ます か? [SEP] またまた 小西 タン の 九州 スイッチ の CM に 出 て くる 某 県 の 話 。 以下 は 友達 の 友達 が 体験 し た 話 。 指 ○ スカイライン という 有料 道路 が ある 。 昼間 は 有料 だ が 夜 10 時 なる と 無料 に なる 道路 だ 。 [SEP]', '[CLS] どの 道路 が 昼間 は 有料 だ が 夜 10 時 なる と 無料 に なり ます か? [SEP] またまた 小西 タン の 九州 スイッチ の CM に 出 て くる 某 県 の 話 。 以下 は 友達 の 友達 が 体験 し た 話 。 指 ○ スカイライン という 有料 道路 が ある 。 昼間 は 有料 だ が 夜 10 時 なる と 無料 に なる 道路 だ 。 [SEP]']\n",
            "start_positions [51, 51]\n",
            "end_positions [54, 57]\n"
          ]
        }
      ]
    },
    {
      "cell_type": "code",
      "source": [
        "from torch.utils.data import Dataset, DataLoader\n",
        "\n",
        "class QADataset(Dataset):\n",
        "  def __init__(self, dataset, is_test=False):\n",
        "    self.dataset = dataset\n",
        "    self.is_test = is_test\n",
        "\n",
        "  def __getitem__(self, idx):\n",
        "    data = {'input_ids': torch.tensor(self.dataset[\"input_ids\"][idx], device=device)}\n",
        "    if not self.is_test:\n",
        "      data[\"start_positions\"] = torch.tensor(self.dataset[\"start_positions\"][idx], device=device)\n",
        "      data[\"end_positions\"] = torch.tensor(self.dataset[\"end_positions\"][idx], device=device)\n",
        "    return data\n",
        "\n",
        "  def __len__(self):\n",
        "    return len(self.dataset[\"input_ids\"])"
      ],
      "metadata": {
        "id": "N3frf-Q7i0c1"
      },
      "execution_count": null,
      "outputs": []
    },
    {
      "cell_type": "code",
      "source": [
        "pp_test, test_answers = preprocess(list_test, is_test=True)"
      ],
      "metadata": {
        "id": "6tRYzkK__g8d"
      },
      "execution_count": null,
      "outputs": []
    },
    {
      "cell_type": "code",
      "source": [
        "dataset_train = QADataset(preprocess(list_train)[0])\n",
        "dataset_valid = QADataset(preprocess(list_valid)[0])\n",
        "pp_test, test_answers = preprocess(list_test, is_test=True)\n",
        "dataset_test = QADataset(pp_test, is_test=True)"
      ],
      "metadata": {
        "id": "yc-JM13DFVu4"
      },
      "execution_count": null,
      "outputs": []
    },
    {
      "cell_type": "code",
      "source": [
        "len(dataset_train), len(dataset_valid), len(dataset_test)"
      ],
      "metadata": {
        "id": "DZaZzvXheIah",
        "colab": {
          "base_uri": "https://localhost:8080/"
        },
        "outputId": "a2949332-81aa-4915-dcab-726b43a5432f"
      },
      "execution_count": null,
      "outputs": [
        {
          "output_type": "execute_result",
          "data": {
            "text/plain": [
              "(25195, 1542, 1045)"
            ]
          },
          "metadata": {},
          "execution_count": 20
        }
      ]
    },
    {
      "cell_type": "markdown",
      "metadata": {
        "id": "HOLyZw_XLpI3"
      },
      "source": [
        "##質問応答モデルの作成"
      ]
    },
    {
      "cell_type": "code",
      "metadata": {
        "id": "4r-mai00IIRp"
      },
      "source": [
        "from transformers import Trainer, TrainingArguments\n",
        "training_config = TrainingArguments(\n",
        "  output_dir = './results',\n",
        "  num_train_epochs = 1,\n",
        "  per_device_train_batch_size = 8,\n",
        "  per_device_eval_batch_size = 8,\n",
        "  warmup_steps = 500,\n",
        "  weight_decay = 0.1,\n",
        "  do_eval = True,\n",
        "  save_steps = 5000\n",
        ")\n",
        "\n",
        "trainer = Trainer(\n",
        "    model = model,\n",
        "    args = training_config,\n",
        "    tokenizer = tokenizer,\n",
        "    train_dataset = dataset_train,\n",
        "    eval_dataset = dataset_valid\n",
        ")"
      ],
      "execution_count": null,
      "outputs": []
    },
    {
      "cell_type": "code",
      "source": [
        "trainer.train()"
      ],
      "metadata": {
        "id": "0sKGEqZlS7bu",
        "colab": {
          "base_uri": "https://localhost:8080/",
          "height": 572
        },
        "outputId": "39e88272-8212-4181-ec68-6c546f23d167"
      },
      "execution_count": null,
      "outputs": [
        {
          "output_type": "stream",
          "name": "stderr",
          "text": [
            "/usr/local/lib/python3.8/dist-packages/transformers/optimization.py:306: FutureWarning: This implementation of AdamW is deprecated and will be removed in a future version. Use the PyTorch implementation torch.optim.AdamW instead, or set `no_deprecation_warning=True` to disable this warning\n",
            "  warnings.warn(\n",
            "***** Running training *****\n",
            "  Num examples = 25195\n",
            "  Num Epochs = 1\n",
            "  Instantaneous batch size per device = 8\n",
            "  Total train batch size (w. parallel, distributed & accumulation) = 8\n",
            "  Gradient Accumulation steps = 1\n",
            "  Total optimization steps = 3150\n"
          ]
        },
        {
          "output_type": "display_data",
          "data": {
            "text/plain": [
              "<IPython.core.display.HTML object>"
            ],
            "text/html": [
              "\n",
              "    <div>\n",
              "      \n",
              "      <progress value='3150' max='3150' style='width:300px; height:20px; vertical-align: middle;'></progress>\n",
              "      [3150/3150 15:09, Epoch 1/1]\n",
              "    </div>\n",
              "    <table border=\"1\" class=\"dataframe\">\n",
              "  <thead>\n",
              " <tr style=\"text-align: left;\">\n",
              "      <th>Step</th>\n",
              "      <th>Training Loss</th>\n",
              "    </tr>\n",
              "  </thead>\n",
              "  <tbody>\n",
              "    <tr>\n",
              "      <td>500</td>\n",
              "      <td>2.679600</td>\n",
              "    </tr>\n",
              "    <tr>\n",
              "      <td>1000</td>\n",
              "      <td>1.620800</td>\n",
              "    </tr>\n",
              "    <tr>\n",
              "      <td>1500</td>\n",
              "      <td>1.456800</td>\n",
              "    </tr>\n",
              "    <tr>\n",
              "      <td>2000</td>\n",
              "      <td>1.335400</td>\n",
              "    </tr>\n",
              "    <tr>\n",
              "      <td>2500</td>\n",
              "      <td>1.197100</td>\n",
              "    </tr>\n",
              "    <tr>\n",
              "      <td>3000</td>\n",
              "      <td>1.148000</td>\n",
              "    </tr>\n",
              "  </tbody>\n",
              "</table><p>"
            ]
          },
          "metadata": {}
        },
        {
          "output_type": "stream",
          "name": "stderr",
          "text": [
            "\n",
            "\n",
            "Training completed. Do not forget to share your model on huggingface.co/models =)\n",
            "\n",
            "\n"
          ]
        },
        {
          "output_type": "execute_result",
          "data": {
            "text/plain": [
              "TrainOutput(global_step=3150, training_loss=1.5498384360661583, metrics={'train_runtime': 913.1601, 'train_samples_per_second': 27.591, 'train_steps_per_second': 3.45, 'total_flos': 2210045927092176.0, 'train_loss': 1.5498384360661583, 'epoch': 1.0})"
            ]
          },
          "metadata": {},
          "execution_count": 22
        }
      ]
    },
    {
      "cell_type": "markdown",
      "source": [
        "## モデルの評価"
      ],
      "metadata": {
        "id": "s27_1mvzN7I9"
      }
    },
    {
      "cell_type": "code",
      "source": [
        "result = trainer.predict(dataset_test)"
      ],
      "metadata": {
        "id": "dV1259GzUPUI",
        "colab": {
          "base_uri": "https://localhost:8080/",
          "height": 71
        },
        "outputId": "989d074b-3c77-4e03-fb71-8839de320e53"
      },
      "execution_count": null,
      "outputs": [
        {
          "output_type": "stream",
          "name": "stderr",
          "text": [
            "***** Running Prediction *****\n",
            "  Num examples = 1045\n",
            "  Batch size = 8\n"
          ]
        },
        {
          "output_type": "display_data",
          "data": {
            "text/plain": [
              "<IPython.core.display.HTML object>"
            ],
            "text/html": []
          },
          "metadata": {}
        }
      ]
    },
    {
      "cell_type": "code",
      "source": [
        "import numpy as np\n",
        "predictions = (np.argmax(result[0][0], axis=1), np.argmax(result[0][1], axis=1))"
      ],
      "metadata": {
        "id": "jpreCpvWYLPh"
      },
      "execution_count": null,
      "outputs": []
    },
    {
      "cell_type": "code",
      "source": [
        "# トークン単位でのExact Match（厳密一致）とF1を計算\n",
        "\n",
        "def evaluate(ground_truth, predictions):\n",
        "  em, f1 = 0., 0.\n",
        "  n_data = len(ground_truth[0])\n",
        "  for answer_starts, answer_ends, pred_start, pred_end in zip(ground_truth[0], ground_truth[1], predictions[0], predictions[1]):\n",
        "    for answer_start, answer_end in zip(answer_starts, answer_ends):\n",
        "      if pred_start == answer_start and pred_end == answer_end:\n",
        "        em += 1\n",
        "        break\n",
        "\n",
        "    f1_candidate = [calc_f1(ps, pe, pred_start, pred_end) for ps, pe in zip(answer_starts, answer_ends)]\n",
        "    f1 += max(f1_candidate)\n",
        "  return {\"em\": (em / n_data), \"f1\": (f1 / n_data)}\n",
        "\n",
        "def calc_f1(gt_start, gt_end, pred_start, pred_end):\n",
        "  tp = max(0, (1 + min(gt_end, pred_end) - max(gt_start, pred_start)))\n",
        "  precision = tp / (1 + pred_end - pred_start)  if 1 + pred_end - pred_start > 0 else 0\n",
        "  # 通常、1 + gt_end - gt_start > 0がFalseになることはあり得ないが念のため\n",
        "  recall = tp / (1 + gt_end - gt_start) if 1 + gt_end - gt_start > 0 else 0\n",
        "  if precision * recall > 0:\n",
        "    return 2 * (precision * recall) / (precision + recall)\n",
        "  return 0."
      ],
      "metadata": {
        "id": "ypbvl5pTAjkd"
      },
      "execution_count": null,
      "outputs": []
    },
    {
      "cell_type": "code",
      "source": [
        "evaluate(test_answers, predictions)"
      ],
      "metadata": {
        "id": "D_eX4EJHEo2S",
        "colab": {
          "base_uri": "https://localhost:8080/"
        },
        "outputId": "d368f13e-14f4-4ad2-e306-d26220ec9ab2"
      },
      "execution_count": null,
      "outputs": [
        {
          "output_type": "execute_result",
          "data": {
            "text/plain": [
              "{'em': 0.7626794258373206, 'f1': 0.8723363048588432}"
            ]
          },
          "metadata": {},
          "execution_count": 26
        }
      ]
    },
    {
      "cell_type": "code",
      "source": [],
      "metadata": {
        "id": "1WdlUcSFItbF"
      },
      "execution_count": null,
      "outputs": []
    }
  ]
}