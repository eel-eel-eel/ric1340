{
  "nbformat": 4,
  "nbformat_minor": 0,
  "metadata": {
    "colab": {
      "provenance": [],
      "include_colab_link": true
    },
    "kernelspec": {
      "name": "python3",
      "display_name": "Python 3"
    },
    "language_info": {
      "name": "python"
    }
  },
  "cells": [
    {
      "cell_type": "markdown",
      "metadata": {
        "id": "view-in-github",
        "colab_type": "text"
      },
      "source": [
        "<a href=\"https://colab.research.google.com/github/eel-eel-eel/ric1340/blob/main/ch01_01_nlp.ipynb\" target=\"_parent\"><img src=\"https://colab.research.google.com/assets/colab-badge.svg\" alt=\"Open In Colab\"/></a>"
      ]
    },
    {
      "cell_type": "markdown",
      "source": [
        "実行前に下記URLよりsample.txtをダウンロードしてファイル画面にアップロードしてください。\n",
        "\n",
        "https://drive.google.com/file/d/1xBeBd6-mYnuRyHdps6vtRCmmmqkBJW0j/view?usp=sharing"
      ],
      "metadata": {
        "id": "pmwD0ITHh0HH"
      }
    },
    {
      "cell_type": "code",
      "metadata": {
        "id": "Fl6Z-f6K2nXO"
      },
      "source": [
        "## 1.1.1　形態素解析"
      ],
      "execution_count": null,
      "outputs": []
    },
    {
      "cell_type": "code",
      "metadata": {
        "colab": {
          "base_uri": "https://localhost:8080/"
        },
        "id": "ZHfpfB1XWigb",
        "outputId": "97588120-5507-4325-cd31-7115a935cda3"
      },
      "source": [
        "#janomeのインストール\n",
        "!pip install janome"
      ],
      "execution_count": null,
      "outputs": [
        {
          "output_type": "stream",
          "name": "stdout",
          "text": [
            "Looking in indexes: https://pypi.org/simple, https://us-python.pkg.dev/colab-wheels/public/simple/\n",
            "Collecting janome\n",
            "  Downloading Janome-0.4.2-py2.py3-none-any.whl (19.7 MB)\n",
            "\u001b[K     |████████████████████████████████| 19.7 MB 6.4 MB/s \n",
            "\u001b[?25hInstalling collected packages: janome\n",
            "Successfully installed janome-0.4.2\n"
          ]
        }
      ]
    },
    {
      "cell_type": "code",
      "metadata": {
        "id": "FlpyAcXqWtdx"
      },
      "source": [
        "#janomeライブラリの利用準備\n",
        "from janome.tokenizer import Tokenizer\n",
        "t = Tokenizer()\n",
        "\n",
        "text = \"私は去年、東京都に住んでいました。\""
      ],
      "execution_count": null,
      "outputs": []
    },
    {
      "cell_type": "code",
      "metadata": {
        "colab": {
          "base_uri": "https://localhost:8080/"
        },
        "id": "hExtwhlgXm1p",
        "outputId": "5447aec4-8475-4161-8d8b-63302bc6e471"
      },
      "source": [
        "for token in t.tokenize(text):\n",
        "  print(token)"
      ],
      "execution_count": null,
      "outputs": [
        {
          "output_type": "stream",
          "name": "stdout",
          "text": [
            "私\t名詞,代名詞,一般,*,*,*,私,ワタシ,ワタシ\n",
            "は\t助詞,係助詞,*,*,*,*,は,ハ,ワ\n",
            "去年\t名詞,副詞可能,*,*,*,*,去年,キョネン,キョネン\n",
            "、\t記号,読点,*,*,*,*,、,、,、\n",
            "東京\t名詞,固有名詞,地域,一般,*,*,東京,トウキョウ,トーキョー\n",
            "都\t名詞,接尾,地域,*,*,*,都,ト,ト\n",
            "に\t助詞,格助詞,一般,*,*,*,に,ニ,ニ\n",
            "住ん\t動詞,自立,*,*,五段・マ行,連用タ接続,住む,スン,スン\n",
            "で\t助詞,接続助詞,*,*,*,*,で,デ,デ\n",
            "い\t動詞,非自立,*,*,一段,連用形,いる,イ,イ\n",
            "まし\t助動詞,*,*,*,特殊・マス,連用形,ます,マシ,マシ\n",
            "た\t助動詞,*,*,*,特殊・タ,基本形,た,タ,タ\n",
            "。\t記号,句点,*,*,*,*,。,。,。\n"
          ]
        }
      ]
    },
    {
      "cell_type": "code",
      "metadata": {
        "colab": {
          "base_uri": "https://localhost:8080/"
        },
        "id": "2Ha-FcU6X5o1",
        "outputId": "e87db991-fdca-4a85-b755-bc4e6ce79e1a"
      },
      "source": [
        "for token in t.tokenize(text):\n",
        "  if token.part_of_speech.split(',')[0] == '名詞':\n",
        "    print(token.surface)"
      ],
      "execution_count": null,
      "outputs": [
        {
          "output_type": "stream",
          "name": "stdout",
          "text": [
            "私\n",
            "去年\n",
            "東京\n",
            "都\n"
          ]
        }
      ]
    },
    {
      "cell_type": "code",
      "metadata": {
        "id": "xkivy-1220zt"
      },
      "source": [
        "## 1.1.2　文章データの取り扱い"
      ],
      "execution_count": null,
      "outputs": []
    },
    {
      "cell_type": "code",
      "metadata": {
        "id": "l2SRBxjX241o"
      },
      "source": [
        "# Colabolatoryのファイルメニューより”sample.txt”を読み込み。"
      ],
      "execution_count": null,
      "outputs": []
    },
    {
      "cell_type": "code",
      "metadata": {
        "colab": {
          "base_uri": "https://localhost:8080/"
        },
        "id": "TUTxHA2f3VSX",
        "outputId": "81b9a3d3-fcac-4086-b9d6-4f831882cbf4"
      },
      "source": [
        "#ファイルの読み込み、及びテキスト部分の出力\n",
        "#なお、パスは適宜調整してください\n",
        "texts = []\n",
        "for line in open('sample.txt'):\n",
        "  #2列目のみ取得する\n",
        "  row,text = line.split(',')\n",
        "  print(text)\n",
        "  texts.append(text)"
      ],
      "execution_count": null,
      "outputs": [
        {
          "output_type": "stream",
          "name": "stdout",
          "text": [
            "私は東京都に住んでいます。\n",
            "\n",
            "私の母は1960年に京都に生まれました。\n",
            "\n",
            "好きな将棋の格言は”歩のない将棋は負け将棋”です。\n",
            "\n",
            "明日、京都から大阪まで移動する。\n",
            "\n",
            "明日の東京の天気は晴れです。\n",
            "\n",
            "私は犬より猫が好きだ。\n",
            "\n",
            "豊洲駅までは30分かかる。\n",
            "\n",
            "今年は2021年です。\n",
            "\n",
            "2021年には東京オリンピックが開催された。\n",
            "\n",
            "自然言語解析は楽しい。\n"
          ]
        }
      ]
    },
    {
      "cell_type": "code",
      "metadata": {
        "id": "YNIRJwf-6i2N"
      },
      "source": [
        "## 1.1.3　正規表現"
      ],
      "execution_count": null,
      "outputs": []
    },
    {
      "cell_type": "code",
      "metadata": {
        "colab": {
          "base_uri": "https://localhost:8080/"
        },
        "id": "rXy6-yYp6rRE",
        "outputId": "e32bc026-ec16-48cb-bc71-873d1f4207b9"
      },
      "source": [
        "# 正規表現用のモジュール読み込み\n",
        "import re\n",
        "# 前節で読み込んだファイル内容の利用\n",
        "for line in texts:\n",
        "# 数値の繰り返し+年を抽出\n",
        "  m = re.search(r'[0-9]+年',line)\n",
        "  if m:\n",
        "    print(m.group())"
      ],
      "execution_count": null,
      "outputs": [
        {
          "output_type": "stream",
          "name": "stdout",
          "text": [
            "1960年\n",
            "2021年\n",
            "2021年\n"
          ]
        }
      ]
    },
    {
      "cell_type": "code",
      "metadata": {
        "id": "T5gwgxa1DqWR"
      },
      "source": [
        "## 1.1.4　単語の出現頻度のカウント"
      ],
      "execution_count": null,
      "outputs": []
    },
    {
      "cell_type": "code",
      "metadata": {
        "id": "PEU59MgGEUbO"
      },
      "source": [
        "from collections import defaultdict"
      ],
      "execution_count": null,
      "outputs": []
    },
    {
      "cell_type": "code",
      "metadata": {
        "id": "liCxPqopEI3l"
      },
      "source": [
        "word_count = defaultdict(int)\n",
        "# 対象品詞の絞り込み\n",
        "target_pos = ['名詞','動詞']\n",
        "for line in texts:\n",
        "  for token in t.tokenize(line):\n",
        "    if token.part_of_speech.split(',')[0] in target_pos:\n",
        "      word_count[token.surface] += 1"
      ],
      "execution_count": null,
      "outputs": []
    },
    {
      "cell_type": "code",
      "metadata": {
        "colab": {
          "base_uri": "https://localhost:8080/"
        },
        "id": "YVlBINpiEI5a",
        "outputId": "dbc7aa4e-b41a-4946-c5bb-2c9ab18f0cf7"
      },
      "source": [
        "# 頻度の降順で並び替え\n",
        "print(sorted(word_count.items(), key=lambda x:x[1], reverse=True))"
      ],
      "execution_count": null,
      "outputs": [
        {
          "output_type": "stream",
          "name": "stdout",
          "text": [
            "[('私', 3), ('東京', 3), ('年', 3), ('将棋', 3), ('京都', 2), ('好き', 2), ('明日', 2), ('2021', 2), ('都', 1), ('住ん', 1), ('い', 1), ('母', 1), ('1960', 1), ('生まれ', 1), ('格言', 1), ('歩', 1), ('負け', 1), ('大阪', 1), ('移動', 1), ('する', 1), ('天気', 1), ('晴れ', 1), ('犬', 1), ('猫', 1), ('豊洲', 1), ('駅', 1), ('30', 1), ('分', 1), ('かかる', 1), ('今年', 1), ('オリンピック', 1), ('開催', 1), ('さ', 1), ('れ', 1), ('自然', 1), ('言語', 1), ('解析', 1)]\n"
          ]
        }
      ]
    }
  ]
}